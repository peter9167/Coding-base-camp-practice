{
 "cells": [
  {
   "cell_type": "markdown",
   "id": "d8185861",
   "metadata": {},
   "source": [
    "## 문자 자료형\n",
    "\n",
    "* 순서가 있는 시퀀스형 자료형입니다.\n",
    "* 작은 따옴표나 큰 따옴표로 묶을 수 있으며, 주석처럼 3개로 감사는 것도 가능합니다.\n",
    "* 작은 따옴표 안에 큰 따옴표를, 큰 따옴표 안에 작은 따옴표 사용 가능합니다.\n",
    "* 이스케이프 문자 사용가능합니다."
   ]
  },
  {
   "cell_type": "code",
   "execution_count": 1,
   "id": "94d3fab3",
   "metadata": {},
   "outputs": [
    {
     "name": "stdout",
     "output_type": "stream",
     "text": [
      "i'm Genius\n",
      "<class 'str'>\n",
      "['__add__', '__class__', '__contains__', '__delattr__', '__dir__', '__doc__', '__eq__', '__format__', '__ge__', '__getattribute__', '__getitem__', '__getnewargs__', '__gt__', '__hash__', '__init__', '__init_subclass__', '__iter__', '__le__', '__len__', '__lt__', '__mod__', '__mul__', '__ne__', '__new__', '__reduce__', '__reduce_ex__', '__repr__', '__rmod__', '__rmul__', '__setattr__', '__sizeof__', '__str__', '__subclasshook__', 'capitalize', 'casefold', 'center', 'count', 'encode', 'endswith', 'expandtabs', 'find', 'format', 'format_map', 'index', 'isalnum', 'isalpha', 'isascii', 'isdecimal', 'isdigit', 'isidentifier', 'islower', 'isnumeric', 'isprintable', 'isspace', 'istitle', 'isupper', 'join', 'ljust', 'lower', 'lstrip', 'maketrans', 'partition', 'removeprefix', 'removesuffix', 'replace', 'rfind', 'rindex', 'rjust', 'rpartition', 'rsplit', 'rstrip', 'split', 'splitlines', 'startswith', 'strip', 'swapcase', 'title', 'translate', 'upper', 'zfill']\n"
     ]
    }
   ],
   "source": [
    "s = \"i'm Genius\"\n",
    "print(s)\n",
    "print(type(s))\n",
    "print(dir(s)) \n",
    "'''\n",
    "dir() 내장 함수는 어떤 객체를 인자로 넣어주면 해당 객체가 \n",
    "어떤 변수와 메소드(method)를 가지고 있는지 나열해줍니다.\n",
    "'''"
   ]
  },
  {
   "cell_type": "code",
   "execution_count": 3,
   "id": "9c182d50",
   "metadata": {},
   "outputs": [
    {
     "data": {
      "text/plain": [
       "\"i'm Genius\""
      ]
     },
     "execution_count": 3,
     "metadata": {},
     "output_type": "execute_result"
    }
   ],
   "source": [
    "s"
   ]
  },
  {
   "cell_type": "code",
   "execution_count": 4,
   "id": "0feebe77",
   "metadata": {},
   "outputs": [
    {
     "data": {
      "text/plain": [
       "('i', \"'\", 'm', ' ', 'G')"
      ]
     },
     "execution_count": 4,
     "metadata": {},
     "output_type": "execute_result"
    }
   ],
   "source": [
    "s[0], s[1], s[2], s[3], s[4] #index와 indexing"
   ]
  },
  {
   "cell_type": "code",
   "execution_count": 7,
   "id": "8b5b8110",
   "metadata": {},
   "outputs": [
    {
     "data": {
      "text/plain": [
       "\"suineG m'i\""
      ]
     },
     "execution_count": 7,
     "metadata": {},
     "output_type": "execute_result"
    }
   ],
   "source": [
    "#s[start:stop:step] shlicing\n",
    "\n",
    "s[0:4]  #0-1-2-3\n",
    "s[:4]   #0-1-2-3\n",
    "s[3:10] #3-4-5-6-7-8-9-10\n",
    "s[:]    #start:stop\n",
    "s[::2]  #step 2\n",
    "s[::1]  #기본값\n",
    "s[::-1] #역순"
   ]
  },
  {
   "cell_type": "code",
   "execution_count": 9,
   "id": "c4e7a3be",
   "metadata": {},
   "outputs": [
    {
     "data": {
      "text/plain": [
       "'paullab\\nCEO\\nleehojun'"
      ]
     },
     "execution_count": 9,
     "metadata": {},
     "output_type": "execute_result"
    }
   ],
   "source": [
    "s = '''paullab\n",
    "CEO\n",
    "leehojun'''\n",
    "\n",
    "s"
   ]
  },
  {
   "cell_type": "markdown",
   "id": "231d646a",
   "metadata": {},
   "source": [
    "## 이스케이프 문자\n",
    "\n",
    "* \\n : 엔터(개행)\n",
    "* \\t : 탭\n",
    "* \\\\' : 작은 따옴표\n",
    "* \\\\\" : 큰 따옴표\n",
    "* \\b : 백스페이스\n",
    "* \\\\\\ : 역슬러쉬 표현"
   ]
  },
  {
   "cell_type": "code",
   "execution_count": 10,
   "id": "b7f64dff",
   "metadata": {},
   "outputs": [
    {
     "data": {
      "text/plain": [
       "\"paullab CEO 'leehojun'\""
      ]
     },
     "execution_count": 10,
     "metadata": {},
     "output_type": "execute_result"
    }
   ],
   "source": [
    "s = \"paullab CEO 'leehojun'\"\n",
    "s"
   ]
  },
  {
   "cell_type": "code",
   "execution_count": 11,
   "id": "454001b9",
   "metadata": {},
   "outputs": [
    {
     "data": {
      "text/plain": [
       "\"paullab CEO 'leehojun\""
      ]
     },
     "execution_count": 11,
     "metadata": {},
     "output_type": "execute_result"
    }
   ],
   "source": [
    "s = 'paullab CEO \\'leehojun'\n",
    "s"
   ]
  },
  {
   "cell_type": "code",
   "execution_count": null,
   "id": "e5f13efb",
   "metadata": {},
   "outputs": [],
   "source": [
    "'capitalize', 'casefold', 'center', 'count', \n",
    "'encode', 'endswith', 'expandtabs', 'find', \n",
    "'format', 'format_map', 'index', 'isalnum', \n",
    "'isalpha', 'isascii', 'isdecimal', 'isdigit', \n",
    "'isidentifier', 'islower', 'isnumeric', \n",
    "'isprintable', 'isspace', 'istitle', 'isupper', \n",
    "'join', 'ljust', 'lower', 'lstrip', 'maketrans', \n",
    "'partition', 'removeprefix', 'removesuffix',\n",
    "'replace', 'rfind', 'rindex', 'rjust', \n",
    "'rpartition', 'rsplit', 'rstrip', 'split', \n",
    "'splitlines', 'startswith', 'strip', 'swapcase', \n",
    "'title', 'translate', 'upper', 'zfill'"
   ]
  },
  {
   "cell_type": "code",
   "execution_count": 13,
   "id": "8fd84536",
   "metadata": {},
   "outputs": [
    {
     "data": {
      "text/plain": [
       "'PAULLAB CEO LEEHOJUN'"
      ]
     },
     "execution_count": 13,
     "metadata": {},
     "output_type": "execute_result"
    }
   ],
   "source": [
    "s = \"paullab CEO leehojun\"\n",
    "s.lower() #소문자\n",
    "s.upper() #대문자"
   ]
  },
  {
   "cell_type": "code",
   "execution_count": 25,
   "id": "70c8eb3a",
   "metadata": {},
   "outputs": [
    {
     "data": {
      "text/plain": [
       "8"
      ]
     },
     "execution_count": 25,
     "metadata": {},
     "output_type": "execute_result"
    }
   ],
   "source": [
    "s.find('CEO') #string.find(찾을 문자, 시작 Index, 끝 Index)\n",
    "# s.index('CEO')"
   ]
  },
  {
   "cell_type": "code",
   "execution_count": 18,
   "id": "3b5b48c2",
   "metadata": {},
   "outputs": [
    {
     "data": {
      "text/plain": [
       "-1"
      ]
     },
     "execution_count": 18,
     "metadata": {},
     "output_type": "execute_result"
    }
   ],
   "source": [
    "'''\n",
    "find( ), index( ) 차이점\n",
    "1) find( )\n",
    "찾는 문자가 없는 경우에 -1을 출력한다.\n",
    "문자열을 찾을 수 있는 변수는 문자열만 사용이 가능하다.  리스트, 튜플, 딕셔너리 자료형에서는 find 함수를 사용할 수 없다. \n",
    "만일 사용하게 되면 AttributeError 에러가 발생한다.\n",
    "\n",
    "2) index( )\n",
    "찾는 문자가 없는 경우에 ValueError 에러가 발생한다.\n",
    "문자열, 리스트, 튜플 자료형에서 사용 가능하고 딕셔너리 자료형에는 사용할 수 없어 AttributeError 에러가 발생한다.\n",
    "'''\n",
    "\n",
    "s.find('CTO') # -1\n",
    "# s.index('CTO') Error"
   ]
  },
  {
   "cell_type": "code",
   "execution_count": 19,
   "id": "10d1e8c0",
   "metadata": {},
   "outputs": [
    {
     "data": {
      "text/plain": [
       "3"
      ]
     },
     "execution_count": 19,
     "metadata": {},
     "output_type": "execute_result"
    }
   ],
   "source": [
    "s.count('l') #문자열의 개수, 리스트의 개수 세는 함수"
   ]
  },
  {
   "cell_type": "code",
   "execution_count": 26,
   "id": "f250f75a",
   "metadata": {},
   "outputs": [
    {
     "data": {
      "text/plain": [
       "4000"
      ]
     },
     "execution_count": 26,
     "metadata": {},
     "output_type": "execute_result"
    }
   ],
   "source": [
    "str(list(range(0, 10000))).count('8') #0~9999까지 8을 포함하는 수\n"
   ]
  },
  {
   "cell_type": "code",
   "execution_count": 28,
   "id": "1603dfe5",
   "metadata": {},
   "outputs": [
    {
     "data": {
      "text/plain": [
       "'hello world'"
      ]
     },
     "execution_count": 28,
     "metadata": {},
     "output_type": "execute_result"
    }
   ],
   "source": [
    "'   ,!!      hello world          '.strip(' ,!') #문자열 및 공백 제거"
   ]
  },
  {
   "cell_type": "code",
   "execution_count": 29,
   "id": "27ed4888",
   "metadata": {},
   "outputs": [
    {
     "data": {
      "text/plain": [
       "'helloworld'"
      ]
     },
     "execution_count": 29,
     "metadata": {},
     "output_type": "execute_result"
    }
   ],
   "source": [
    "# 메서드 체이닝\n",
    "'   ,!!   hello world      '.replace(' ', '').replace(',', '').replace('!', '')"
   ]
  },
  {
   "cell_type": "code",
   "execution_count": 33,
   "id": "92c7f88d",
   "metadata": {},
   "outputs": [
    {
     "data": {
      "text/plain": [
       "['paullab', 'CEO', 'leehojun']"
      ]
     },
     "execution_count": 33,
     "metadata": {},
     "output_type": "execute_result"
    }
   ],
   "source": [
    "'paullab CEO leehojun'.split(' ')\n",
    "'paullab!CEO!leehojun'.split('!')\n",
    "'paullab,CEO,leehojun'.split(',')\n",
    "# 'paullab,CEO,leehojun'.spliit(' ')"
   ]
  },
  {
   "cell_type": "code",
   "execution_count": 45,
   "id": "3bb9790d",
   "metadata": {},
   "outputs": [
    {
     "data": {
      "text/plain": [
       "'paullab!CEO!leehojun'"
      ]
     },
     "execution_count": 45,
     "metadata": {},
     "output_type": "execute_result"
    }
   ],
   "source": [
    "'~'.join(['paullab', 'CEO', 'leehojun'])\n",
    "'!'.join(['paullab', 'CEO', 'leehojun'])"
   ]
  },
  {
   "cell_type": "code",
   "execution_count": 53,
   "id": "aada1219",
   "metadata": {},
   "outputs": [
    {
     "name": "stdout",
     "output_type": "stream",
     "text": [
      "False\n",
      "True\n",
      "False\n",
      "True\n",
      "True\n",
      "True\n"
     ]
    }
   ],
   "source": [
    "'''\n",
    "isalnum(): 문자, 숫자 외에 공백이나 특수문자가 없는지 확인\n",
    "isalpha(): \n",
    "isascii(): 문자열내 모든 값이 ASCII값인지 확인\n",
    "isspace(): 문자열 내 모든 값이 공백인지 확인\n",
    "istitle(): 문자열이 제목 케이스인지 확인(예: Hello World)\n",
    "'''\n",
    "# isalnum(): 문자, 숫자 외에 공백이나 특수문자가 없는지 확인\n",
    "print('paullab CEO leehojun'.isalnum())\n",
    "print('123'.isalnum())\n",
    "# isalpha() : 알파벳/문자열인지 확인\n",
    "print('paullab CEO leehojun'.isalpha())\n",
    "print('paullabCEOleehojun'.isalpha())\n",
    "# isascii(): 문자열내 모든 값이 ASCII값인지 확인\n",
    "print('paullab CEO leehojun'.isascii())\n",
    "print('123'.isascii())"
   ]
  },
  {
   "cell_type": "code",
   "execution_count": 55,
   "id": "210871d5",
   "metadata": {},
   "outputs": [
    {
     "name": "stdout",
     "output_type": "stream",
     "text": [
      "          paullab CEO leehojun\n",
      "paullab CEO leehojun          \n",
      "     paullab CEO leehojun     \n"
     ]
    }
   ],
   "source": [
    "#문자열 정열하기\n",
    "print('paullab CEO leehojun'.rjust(30))\n",
    "print('paullab CEO leehojun'.ljust(30))\n",
    "print('paullab CEO leehojun'.center(30))"
   ]
  },
  {
   "cell_type": "code",
   "execution_count": 59,
   "id": "7ba4c43a",
   "metadata": {},
   "outputs": [
    {
     "name": "stdout",
     "output_type": "stream",
     "text": [
      "0000000000paullab CEO leehojun\n",
      "!!!!!!!!!!paullab CEO leehojun\n"
     ]
    },
    {
     "data": {
      "text/plain": [
       "'00011110'"
      ]
     },
     "execution_count": 59,
     "metadata": {},
     "output_type": "execute_result"
    }
   ],
   "source": [
    "#문자열 앞에 0 채우기\n",
    "print('paullab CEO leehojun'.zfill(30))\n",
    "print('paullab CEO leehojun'.zfill(30).replace('0', '!'))\n",
    "\n",
    "bin(30)[2:]\n",
    "bin(30)[2:].zfill(8)"
   ]
  },
  {
   "cell_type": "code",
   "execution_count": 61,
   "id": "5e524bf1",
   "metadata": {},
   "outputs": [
    {
     "name": "stdout",
     "output_type": "stream",
     "text": [
      "pau11ab CEO 122hojun\n"
     ]
    }
   ],
   "source": [
    "규칙테이블 = str.maketrans('le', '12')\n",
    "print('paullab CEO leehojun'.translate(규칙테이블))"
   ]
  }
 ],
 "metadata": {
  "kernelspec": {
   "display_name": "Python 3 (ipykernel)",
   "language": "python",
   "name": "python3"
  },
  "language_info": {
   "codemirror_mode": {
    "name": "ipython",
    "version": 3
   },
   "file_extension": ".py",
   "mimetype": "text/x-python",
   "name": "python",
   "nbconvert_exporter": "python",
   "pygments_lexer": "ipython3",
   "version": "3.9.7"
  }
 },
 "nbformat": 4,
 "nbformat_minor": 5
}
