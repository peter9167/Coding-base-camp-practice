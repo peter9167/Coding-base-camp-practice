{
 "cells": [
  {
   "cell_type": "markdown",
   "id": "7216738d",
   "metadata": {},
   "source": [
    "## 숫자 자료형\n",
    "* 최댓값, 최솟값이 없고, 자동으로 메모리 할당(2.x에서는 sys.maxsize 사용, int와 long 자료형으로 나뉘었음)\n",
    "* int, float, complex가 있음(numpy와 같은 모듈에서는 메모리 관리를 좀 더 효율적으로 하기 위해 각각의 자료형을 좀 더 세분화)"
   ]
  },
  {
   "cell_type": "code",
   "execution_count": 2,
   "id": "65349231",
   "metadata": {},
   "outputs": [
    {
     "data": {
      "text/plain": [
       "(int, int)"
      ]
     },
     "execution_count": 2,
     "metadata": {},
     "output_type": "execute_result"
    }
   ],
   "source": [
    "import sys\n",
    "\n",
    "최댓값_변수 = sys.maxsize\n",
    "최댓값_변수2 = 최댓값_변수 + 1\n",
    "\n",
    "type(최댓값_변수), type(최댓값_변수2)"
   ]
  },
  {
   "cell_type": "code",
   "execution_count": 4,
   "id": "db9bac09",
   "metadata": {},
   "outputs": [
    {
     "data": {
      "text/plain": [
       "9223372036854775807"
      ]
     },
     "execution_count": 4,
     "metadata": {},
     "output_type": "execute_result"
    }
   ],
   "source": [
    "최댓값_변수"
   ]
  },
  {
   "cell_type": "code",
   "execution_count": 6,
   "id": "15bc34eb",
   "metadata": {},
   "outputs": [
    {
     "data": {
      "text/plain": [
       "2326635650384"
      ]
     },
     "execution_count": 6,
     "metadata": {},
     "output_type": "execute_result"
    }
   ],
   "source": [
    "id(최댓값_변수)"
   ]
  },
  {
   "cell_type": "code",
   "execution_count": 7,
   "id": "74f60e7b",
   "metadata": {},
   "outputs": [
    {
     "data": {
      "text/plain": [
       "2326715616208"
      ]
     },
     "execution_count": 7,
     "metadata": {},
     "output_type": "execute_result"
    }
   ],
   "source": [
    "최댓값_변수3 = 9223372036854775807\n",
    "id(최댓값_변수3)"
   ]
  },
  {
   "cell_type": "code",
   "execution_count": 9,
   "id": "ab3f530b",
   "metadata": {},
   "outputs": [
    {
     "data": {
      "text/plain": [
       "(2326635440432, 2326635440432)"
      ]
     },
     "execution_count": 9,
     "metadata": {},
     "output_type": "execute_result"
    }
   ],
   "source": [
    "a = 1\n",
    "b = 1\n",
    "\n",
    "id(a), id(b)"
   ]
  },
  {
   "cell_type": "code",
   "execution_count": 11,
   "id": "0b5fca9d",
   "metadata": {},
   "outputs": [
    {
     "data": {
      "text/plain": [
       "(2326635637136, 2326635637136)"
      ]
     },
     "execution_count": 11,
     "metadata": {},
     "output_type": "execute_result"
    }
   ],
   "source": [
    "# 256까지는 id가 같다.\n",
    "# 257부터는 id가 다르다.\n",
    "a = 256\n",
    "b = 256\n",
    "\n",
    "id(a), id(b)"
   ]
  },
  {
   "cell_type": "code",
   "execution_count": 12,
   "id": "6e000cc5",
   "metadata": {},
   "outputs": [
    {
     "name": "stdout",
     "output_type": "stream",
     "text": [
      "<class 'int'>\n"
     ]
    }
   ],
   "source": [
    "# 구골(10에 100승)\n",
    "\n",
    "a = 10 ** 100\n",
    "print(type(a))"
   ]
  },
  {
   "cell_type": "code",
   "execution_count": 13,
   "id": "1eff0405",
   "metadata": {},
   "outputs": [],
   "source": [
    "a = 10\n",
    "b = 0b110 #2진법\n",
    "c = 0o11  #8진법\n",
    "d = 0x1A  #16진법\n",
    "e = 10.1\n",
    "f = 1 + 2j"
   ]
  },
  {
   "cell_type": "code",
   "execution_count": 14,
   "id": "d0acd5d7",
   "metadata": {},
   "outputs": [
    {
     "data": {
      "text/plain": [
       "(int, int, int, int, float, complex)"
      ]
     },
     "execution_count": 14,
     "metadata": {},
     "output_type": "execute_result"
    }
   ],
   "source": [
    "type(a), type(b), type(c), type(d), type(e), type(f)"
   ]
  },
  {
   "cell_type": "code",
   "execution_count": 15,
   "id": "be6cb7db",
   "metadata": {},
   "outputs": [
    {
     "data": {
      "text/plain": [
       "('0b110', '0o11', '0x1a')"
      ]
     },
     "execution_count": 15,
     "metadata": {},
     "output_type": "execute_result"
    }
   ],
   "source": [
    "bin(b), oct(c), hex(d)"
   ]
  },
  {
   "cell_type": "code",
   "execution_count": 17,
   "id": "492bd619",
   "metadata": {},
   "outputs": [
    {
     "data": {
      "text/plain": [
       "(str, str, str)"
      ]
     },
     "execution_count": 17,
     "metadata": {},
     "output_type": "execute_result"
    }
   ],
   "source": [
    "type(bin(b)), type(oct(c)), type(hex(d))"
   ]
  },
  {
   "cell_type": "code",
   "execution_count": 21,
   "id": "869b86d9",
   "metadata": {},
   "outputs": [
    {
     "data": {
      "text/plain": [
       "'110'"
      ]
     },
     "execution_count": 21,
     "metadata": {},
     "output_type": "execute_result"
    }
   ],
   "source": [
    "#진법 변환은 int로 변환이 되지 않음\n",
    "#변환하려면 컴마찍고 변환할 진법 입력\n",
    "int(bin(b), 2), int(oct(c), 8), int(hex(d),16)\n",
    "bin(b)[2:]"
   ]
  },
  {
   "cell_type": "code",
   "execution_count": 24,
   "id": "2a68f521",
   "metadata": {},
   "outputs": [
    {
     "data": {
      "text/plain": [
       "3"
      ]
     },
     "execution_count": 24,
     "metadata": {},
     "output_type": "execute_result"
    }
   ],
   "source": [
    "dir(b)\n",
    "b.bit_length()"
   ]
  }
 ],
 "metadata": {
  "kernelspec": {
   "display_name": "Python 3 (ipykernel)",
   "language": "python",
   "name": "python3"
  },
  "language_info": {
   "codemirror_mode": {
    "name": "ipython",
    "version": 3
   },
   "file_extension": ".py",
   "mimetype": "text/x-python",
   "name": "python",
   "nbconvert_exporter": "python",
   "pygments_lexer": "ipython3",
   "version": "3.9.7"
  }
 },
 "nbformat": 4,
 "nbformat_minor": 5
}
