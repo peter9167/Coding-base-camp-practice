{
 "cells": [
  {
   "cell_type": "code",
   "execution_count": 1,
   "id": "fa1c0395",
   "metadata": {},
   "outputs": [
    {
     "data": {
      "text/plain": [
       "[0, 1, 2, 3, 4, 5, 6, 7, 8, 9]"
      ]
     },
     "execution_count": 1,
     "metadata": {},
     "output_type": "execute_result"
    }
   ],
   "source": [
    "l = [i for i in range(10)]\n",
    "\n",
    "#위 코드와 같은 코드\n",
    "# l = []\n",
    "# for i in range(10):\n",
    "#     l.append(i)\n",
    "l"
   ]
  },
  {
   "cell_type": "code",
   "execution_count": 5,
   "id": "a7351d56",
   "metadata": {},
   "outputs": [
    {
     "data": {
      "text/plain": [
       "['2 X 1 = 2',\n",
       " '2 X 2 = 4',\n",
       " '2 X 3 = 6',\n",
       " '2 X 4 = 8',\n",
       " '2 X 5 = 10',\n",
       " '2 X 6 = 12',\n",
       " '2 X 7 = 14',\n",
       " '2 X 8 = 16',\n",
       " '2 X 9 = 18',\n",
       " '3 X 1 = 3',\n",
       " '3 X 2 = 6',\n",
       " '3 X 3 = 9',\n",
       " '3 X 4 = 12',\n",
       " '3 X 5 = 15',\n",
       " '3 X 6 = 18',\n",
       " '3 X 7 = 21',\n",
       " '3 X 8 = 24',\n",
       " '3 X 9 = 27',\n",
       " '4 X 1 = 4',\n",
       " '4 X 2 = 8',\n",
       " '4 X 3 = 12',\n",
       " '4 X 4 = 16',\n",
       " '4 X 5 = 20',\n",
       " '4 X 6 = 24',\n",
       " '4 X 7 = 28',\n",
       " '4 X 8 = 32',\n",
       " '4 X 9 = 36',\n",
       " '5 X 1 = 5',\n",
       " '5 X 2 = 10',\n",
       " '5 X 3 = 15',\n",
       " '5 X 4 = 20',\n",
       " '5 X 5 = 25',\n",
       " '5 X 6 = 30',\n",
       " '5 X 7 = 35',\n",
       " '5 X 8 = 40',\n",
       " '5 X 9 = 45',\n",
       " '6 X 1 = 6',\n",
       " '6 X 2 = 12',\n",
       " '6 X 3 = 18',\n",
       " '6 X 4 = 24',\n",
       " '6 X 5 = 30',\n",
       " '6 X 6 = 36',\n",
       " '6 X 7 = 42',\n",
       " '6 X 8 = 48',\n",
       " '6 X 9 = 54',\n",
       " '7 X 1 = 7',\n",
       " '7 X 2 = 14',\n",
       " '7 X 3 = 21',\n",
       " '7 X 4 = 28',\n",
       " '7 X 5 = 35',\n",
       " '7 X 6 = 42',\n",
       " '7 X 7 = 49',\n",
       " '7 X 8 = 56',\n",
       " '7 X 9 = 63',\n",
       " '8 X 1 = 8',\n",
       " '8 X 2 = 16',\n",
       " '8 X 3 = 24',\n",
       " '8 X 4 = 32',\n",
       " '8 X 5 = 40',\n",
       " '8 X 6 = 48',\n",
       " '8 X 7 = 56',\n",
       " '8 X 8 = 64',\n",
       " '8 X 9 = 72',\n",
       " '9 X 1 = 9',\n",
       " '9 X 2 = 18',\n",
       " '9 X 3 = 27',\n",
       " '9 X 4 = 36',\n",
       " '9 X 5 = 45',\n",
       " '9 X 6 = 54',\n",
       " '9 X 7 = 63',\n",
       " '9 X 8 = 72',\n",
       " '9 X 9 = 81']"
      ]
     },
     "execution_count": 5,
     "metadata": {},
     "output_type": "execute_result"
    }
   ],
   "source": [
    "l = [f'{i} X {j} = {i * j}' for i in range(2, 10) for j in range(1, 10)]\n",
    "l"
   ]
  },
  {
   "cell_type": "code",
   "execution_count": 7,
   "id": "9b6c4b9e",
   "metadata": {},
   "outputs": [
    {
     "data": {
      "text/plain": [
       "[[10, 10, 10], [10, 10, 10], [10, 10, 10], [10, 10, 10], [10, 10, 10]]"
      ]
     },
     "execution_count": 7,
     "metadata": {},
     "output_type": "execute_result"
    }
   ],
   "source": [
    "# 주의사항 ! 아래와 같이 작성하면 저장되는 id 값이 같다\n",
    "# 그래서 하나만 변경해도 다 변경이 됨\n",
    "l = [[10]*3]*5\n",
    "l"
   ]
  },
  {
   "cell_type": "code",
   "execution_count": 8,
   "id": "d9617c09",
   "metadata": {},
   "outputs": [
    {
     "data": {
      "text/plain": [
       "[[10000, 10, 10],\n",
       " [10000, 10, 10],\n",
       " [10000, 10, 10],\n",
       " [10000, 10, 10],\n",
       " [10000, 10, 10]]"
      ]
     },
     "execution_count": 8,
     "metadata": {},
     "output_type": "execute_result"
    }
   ],
   "source": [
    "#아래와 같이 변경됨\n",
    "l[0][0] = 10000\n",
    "l\n"
   ]
  },
  {
   "cell_type": "code",
   "execution_count": 10,
   "id": "5a37126d",
   "metadata": {},
   "outputs": [
    {
     "data": {
      "text/plain": [
       "[[10000, 1, 2],\n",
       " [0, 1, 2],\n",
       " [0, 1, 2],\n",
       " [0, 1, 2],\n",
       " [0, 1, 2],\n",
       " [0, 1, 2],\n",
       " [0, 1, 2],\n",
       " [0, 1, 2],\n",
       " [0, 1, 2],\n",
       " [0, 1, 2]]"
      ]
     },
     "execution_count": 10,
     "metadata": {},
     "output_type": "execute_result"
    }
   ],
   "source": [
    "# 그래서 아래와 같이 사용하는 것을 추천\n",
    "l = [[i for i in range(3)] for i in range(10)]\n",
    "l\n",
    "\n",
    "l[0][0] = 10000\n",
    "l"
   ]
  },
  {
   "cell_type": "code",
   "execution_count": 11,
   "id": "c8809a92",
   "metadata": {},
   "outputs": [
    {
     "name": "stdout",
     "output_type": "stream",
     "text": [
      "0\n",
      "3\n",
      "5\n",
      "6\n",
      "9\n"
     ]
    },
    {
     "data": {
      "text/plain": [
       "[0, 3, 5, 6, 9]"
      ]
     },
     "execution_count": 11,
     "metadata": {},
     "output_type": "execute_result"
    }
   ],
   "source": [
    "for i in range(10):\n",
    "    if i % 3 == 0 or i % 5 == 0:\n",
    "        print(i)\n",
    "        \n",
    "l = [i for i in range(10) if i % 3 == 0 or i % 5 == 0]\n",
    "l"
   ]
  },
  {
   "cell_type": "code",
   "execution_count": null,
   "id": "1c6cc618",
   "metadata": {},
   "outputs": [],
   "source": []
  },
  {
   "cell_type": "code",
   "execution_count": null,
   "id": "30d0fa6a",
   "metadata": {},
   "outputs": [],
   "source": []
  },
  {
   "cell_type": "code",
   "execution_count": null,
   "id": "9a39f105",
   "metadata": {},
   "outputs": [],
   "source": []
  },
  {
   "cell_type": "code",
   "execution_count": null,
   "id": "848f0ab5",
   "metadata": {},
   "outputs": [],
   "source": []
  },
  {
   "cell_type": "code",
   "execution_count": null,
   "id": "30105c27",
   "metadata": {},
   "outputs": [],
   "source": []
  },
  {
   "cell_type": "code",
   "execution_count": null,
   "id": "dfafe269",
   "metadata": {},
   "outputs": [],
   "source": []
  }
 ],
 "metadata": {
  "kernelspec": {
   "display_name": "Python 3 (ipykernel)",
   "language": "python",
   "name": "python3"
  },
  "language_info": {
   "codemirror_mode": {
    "name": "ipython",
    "version": 3
   },
   "file_extension": ".py",
   "mimetype": "text/x-python",
   "name": "python",
   "nbconvert_exporter": "python",
   "pygments_lexer": "ipython3",
   "version": "3.9.7"
  }
 },
 "nbformat": 4,
 "nbformat_minor": 5
}
