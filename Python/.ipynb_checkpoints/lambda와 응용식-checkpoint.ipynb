{
 "cells": [
  {
   "cell_type": "markdown",
   "id": "a06364e4",
   "metadata": {},
   "source": [
    "## lambda와 응용식"
   ]
  },
  {
   "cell_type": "code",
   "execution_count": 1,
   "id": "a720d41e",
   "metadata": {},
   "outputs": [
    {
     "name": "stdout",
     "output_type": "stream",
     "text": [
      "hello world\n"
     ]
    }
   ],
   "source": [
    "#익명함수 -> 이름이 없는 함수\n",
    "\n",
    "hojun = print\n",
    "\n",
    "hojun('hello world')"
   ]
  },
  {
   "cell_type": "code",
   "execution_count": 3,
   "id": "30fa068b",
   "metadata": {},
   "outputs": [
    {
     "name": "stdout",
     "output_type": "stream",
     "text": [
      "30\n"
     ]
    }
   ],
   "source": [
    "def add(x, y):\n",
    "    return x + y\n",
    "def sub():\n",
    "    pass\n",
    "def div():\n",
    "    pass\n",
    "def mul():\n",
    "    pass\n",
    "calculator = [add, sub, div, mul]\n",
    "print(calculator[0](10, 20))"
   ]
  },
  {
   "cell_type": "code",
   "execution_count": 5,
   "id": "5523c693",
   "metadata": {},
   "outputs": [
    {
     "data": {
      "text/plain": [
       "9"
      ]
     },
     "execution_count": 5,
     "metadata": {},
     "output_type": "execute_result"
    }
   ],
   "source": [
    "제곱 = lambda x : x**2\n",
    "제곱(3)"
   ]
  },
  {
   "cell_type": "code",
   "execution_count": 6,
   "id": "fd215b4e",
   "metadata": {},
   "outputs": [
    {
     "data": {
      "text/plain": [
       "[1, 4, 9, 16]"
      ]
     },
     "execution_count": 6,
     "metadata": {},
     "output_type": "execute_result"
    }
   ],
   "source": [
    "def f(x):\n",
    "    return x ** 2\n",
    "\n",
    "list(map(f, [1, 2, 3, 4]))"
   ]
  },
  {
   "cell_type": "code",
   "execution_count": 7,
   "id": "8711b3b3",
   "metadata": {},
   "outputs": [
    {
     "data": {
      "text/plain": [
       "[1, 4, 9, 16]"
      ]
     },
     "execution_count": 7,
     "metadata": {},
     "output_type": "execute_result"
    }
   ],
   "source": [
    "list(map(lambda x : x**2, [1, 2, 3, 4]))"
   ]
  },
  {
   "cell_type": "code",
   "execution_count": 8,
   "id": "ba1ba002",
   "metadata": {},
   "outputs": [
    {
     "data": {
      "text/plain": [
       "[1, 4, 9, 16]"
      ]
     },
     "execution_count": 8,
     "metadata": {},
     "output_type": "execute_result"
    }
   ],
   "source": [
    "list(map(제곱, [1, 2, 3, 4]))"
   ]
  },
  {
   "cell_type": "code",
   "execution_count": 9,
   "id": "db07039b",
   "metadata": {},
   "outputs": [
    {
     "data": {
      "text/plain": [
       "9"
      ]
     },
     "execution_count": 9,
     "metadata": {},
     "output_type": "execute_result"
    }
   ],
   "source": [
    "(lambda x : x**2)(3)"
   ]
  },
  {
   "cell_type": "code",
   "execution_count": 11,
   "id": "374e333d",
   "metadata": {},
   "outputs": [
    {
     "data": {
      "text/plain": [
       "[51,\n",
       " 52,\n",
       " 53,\n",
       " 54,\n",
       " 55,\n",
       " 56,\n",
       " 57,\n",
       " 58,\n",
       " 59,\n",
       " 60,\n",
       " 61,\n",
       " 62,\n",
       " 63,\n",
       " 64,\n",
       " 65,\n",
       " 66,\n",
       " 67,\n",
       " 68,\n",
       " 69,\n",
       " 70,\n",
       " 71,\n",
       " 72,\n",
       " 73,\n",
       " 74,\n",
       " 75,\n",
       " 76,\n",
       " 77,\n",
       " 78,\n",
       " 79,\n",
       " 80,\n",
       " 81,\n",
       " 82,\n",
       " 83,\n",
       " 84,\n",
       " 85,\n",
       " 86,\n",
       " 87,\n",
       " 88,\n",
       " 89,\n",
       " 90,\n",
       " 91,\n",
       " 92,\n",
       " 93,\n",
       " 94,\n",
       " 95,\n",
       " 96,\n",
       " 97,\n",
       " 98,\n",
       " 99]"
      ]
     },
     "execution_count": 11,
     "metadata": {},
     "output_type": "execute_result"
    }
   ],
   "source": [
    "list(filter(lambda x : x>50, range(100)))"
   ]
  },
  {
   "cell_type": "code",
   "execution_count": 12,
   "id": "5a7d9f47",
   "metadata": {},
   "outputs": [],
   "source": [
    "# filter\n",
    "# zip\n",
    "# map\n",
    "# lambda"
   ]
  },
  {
   "cell_type": "code",
   "execution_count": 17,
   "id": "80b3317e",
   "metadata": {},
   "outputs": [
    {
     "data": {
      "text/plain": [
       "[(1, 2), (2, 2), (3, 2), (4, 3), (5, 3)]"
      ]
     },
     "execution_count": 17,
     "metadata": {},
     "output_type": "execute_result"
    }
   ],
   "source": [
    "숫자 = [1, 2, 3, 4, 5]\n",
    "승수 = [2, 2, 2, 3, 3]\n",
    "# 1. 숫자의 승수를 zip으로 맵핑해서 진행하세요.\n",
    "# 2. 승수한 값이 100 이상인 값을 출력하세요.\n",
    "# 3. 승수한 값을 모두 더하세요.\n",
    "\n",
    "list(zip(숫자, 승수))"
   ]
  },
  {
   "cell_type": "code",
   "execution_count": 25,
   "id": "1a6d670c",
   "metadata": {},
   "outputs": [
    {
     "name": "stdout",
     "output_type": "stream",
     "text": [
      "[1, 4, 9, 64, 125]\n",
      "(1, 2)\n",
      "(2, 2)\n",
      "(3, 2)\n",
      "(4, 3)\n",
      "(5, 3)\n",
      "1 2\n",
      "2 2\n",
      "3 2\n",
      "4 3\n",
      "5 3\n",
      "[64, 125]\n",
      "203\n"
     ]
    }
   ],
   "source": [
    "숫자 = [1, 2, 3, 4, 5]\n",
    "승수 = [2, 2, 2, 3, 3]\n",
    "# 1. 숫자의 승수를 zip으로 맵핑해서 진행하세요.\n",
    "# 2. 승수한 값이 100 이상인 값을 출력하세요.\n",
    "# 3. 승수한 값을 모두 더하세요.\n",
    "\n",
    "# 1번\n",
    "# list(map(lambda x, y: x ** y, zip(숫자, 승수)))\n",
    "print(list(map(lambda x: x[0] ** x[1], zip(숫자, 승수))))\n",
    "\n",
    "for i in zip(숫자, 승수):\n",
    "    print(i)\n",
    "    \n",
    "for i, j in zip(숫자, 승수):\n",
    "    print(i, j)\n",
    "    \n",
    "# 2번\n",
    "filter\n",
    "print(list(filter(lambda x: x > 50, list(map(lambda x: x[0] ** x[1], zip(숫자, 승수))))))\n",
    "\n",
    "# 3번\n",
    "print(sum(map(lambda x: x[0] ** x[1], zip(숫자, 승수))))\n",
    "\n",
    "\n"
   ]
  },
  {
   "cell_type": "code",
   "execution_count": null,
   "id": "ede8e90f",
   "metadata": {},
   "outputs": [],
   "source": []
  },
  {
   "cell_type": "code",
   "execution_count": null,
   "id": "e49c1b4c",
   "metadata": {},
   "outputs": [],
   "source": []
  },
  {
   "cell_type": "code",
   "execution_count": null,
   "id": "596d031b",
   "metadata": {},
   "outputs": [],
   "source": []
  },
  {
   "cell_type": "code",
   "execution_count": null,
   "id": "c175e78a",
   "metadata": {},
   "outputs": [],
   "source": []
  },
  {
   "cell_type": "code",
   "execution_count": null,
   "id": "33e77636",
   "metadata": {},
   "outputs": [],
   "source": []
  },
  {
   "cell_type": "code",
   "execution_count": null,
   "id": "c09f6cca",
   "metadata": {},
   "outputs": [],
   "source": []
  },
  {
   "cell_type": "code",
   "execution_count": null,
   "id": "16afd43b",
   "metadata": {},
   "outputs": [],
   "source": []
  },
  {
   "cell_type": "code",
   "execution_count": null,
   "id": "74627132",
   "metadata": {},
   "outputs": [],
   "source": []
  },
  {
   "cell_type": "code",
   "execution_count": null,
   "id": "9e4bffcb",
   "metadata": {},
   "outputs": [],
   "source": []
  },
  {
   "cell_type": "code",
   "execution_count": null,
   "id": "0514547f",
   "metadata": {},
   "outputs": [],
   "source": []
  },
  {
   "cell_type": "code",
   "execution_count": null,
   "id": "f1eb1d74",
   "metadata": {},
   "outputs": [],
   "source": []
  },
  {
   "cell_type": "code",
   "execution_count": null,
   "id": "ffda0311",
   "metadata": {},
   "outputs": [],
   "source": []
  }
 ],
 "metadata": {
  "kernelspec": {
   "display_name": "Python 3 (ipykernel)",
   "language": "python",
   "name": "python3"
  },
  "language_info": {
   "codemirror_mode": {
    "name": "ipython",
    "version": 3
   },
   "file_extension": ".py",
   "mimetype": "text/x-python",
   "name": "python",
   "nbconvert_exporter": "python",
   "pygments_lexer": "ipython3",
   "version": "3.9.7"
  }
 },
 "nbformat": 4,
 "nbformat_minor": 5
}
