{
 "cells": [
  {
   "cell_type": "markdown",
   "id": "cc885ce0",
   "metadata": {},
   "source": [
    "## 튜플\n",
    "\n",
    "* 튜플은 순서가 있는 시퀀스형 자료형입니다.\n",
    "* 참조값은 변경이 불가능합니다.\n",
    "* 다른 자료형을 입력할 수 있으며, 리스트 안에 리스트로 다차원의 리스트를 만드는 것도 가능 합니다.\n",
    "* 값의 중복을 허락합니다."
   ]
  },
  {
   "cell_type": "code",
   "execution_count": null,
   "id": "51f03006",
   "metadata": {},
   "outputs": [],
   "source": []
  }
 ],
 "metadata": {
  "kernelspec": {
   "display_name": "Python 3 (ipykernel)",
   "language": "python",
   "name": "python3"
  },
  "language_info": {
   "codemirror_mode": {
    "name": "ipython",
    "version": 3
   },
   "file_extension": ".py",
   "mimetype": "text/x-python",
   "name": "python",
   "nbconvert_exporter": "python",
   "pygments_lexer": "ipython3",
   "version": "3.9.7"
  }
 },
 "nbformat": 4,
 "nbformat_minor": 5
}
