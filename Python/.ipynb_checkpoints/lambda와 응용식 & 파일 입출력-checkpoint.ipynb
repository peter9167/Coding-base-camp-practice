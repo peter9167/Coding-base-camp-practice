{
 "cells": [
  {
   "cell_type": "markdown",
   "id": "a06364e4",
   "metadata": {},
   "source": [
    "## lambda와 응용식"
   ]
  },
  {
   "cell_type": "code",
   "execution_count": 1,
   "id": "a720d41e",
   "metadata": {},
   "outputs": [
    {
     "name": "stdout",
     "output_type": "stream",
     "text": [
      "hello world\n"
     ]
    }
   ],
   "source": [
    "#익명함수 -> 이름이 없는 함수\n",
    "\n",
    "hojun = print\n",
    "\n",
    "hojun('hello world')"
   ]
  },
  {
   "cell_type": "code",
   "execution_count": 3,
   "id": "30fa068b",
   "metadata": {},
   "outputs": [
    {
     "name": "stdout",
     "output_type": "stream",
     "text": [
      "30\n"
     ]
    }
   ],
   "source": [
    "def add(x, y):\n",
    "    return x + y\n",
    "def sub():\n",
    "    pass\n",
    "def div():\n",
    "    pass\n",
    "def mul():\n",
    "    pass\n",
    "calculator = [add, sub, div, mul]\n",
    "print(calculator[0](10, 20))"
   ]
  },
  {
   "cell_type": "code",
   "execution_count": 5,
   "id": "5523c693",
   "metadata": {},
   "outputs": [
    {
     "data": {
      "text/plain": [
       "9"
      ]
     },
     "execution_count": 5,
     "metadata": {},
     "output_type": "execute_result"
    }
   ],
   "source": [
    "제곱 = lambda x : x**2\n",
    "제곱(3)"
   ]
  },
  {
   "cell_type": "code",
   "execution_count": 6,
   "id": "fd215b4e",
   "metadata": {},
   "outputs": [
    {
     "data": {
      "text/plain": [
       "[1, 4, 9, 16]"
      ]
     },
     "execution_count": 6,
     "metadata": {},
     "output_type": "execute_result"
    }
   ],
   "source": [
    "def f(x):\n",
    "    return x ** 2\n",
    "\n",
    "list(map(f, [1, 2, 3, 4]))"
   ]
  },
  {
   "cell_type": "code",
   "execution_count": 7,
   "id": "8711b3b3",
   "metadata": {},
   "outputs": [
    {
     "data": {
      "text/plain": [
       "[1, 4, 9, 16]"
      ]
     },
     "execution_count": 7,
     "metadata": {},
     "output_type": "execute_result"
    }
   ],
   "source": [
    "list(map(lambda x : x**2, [1, 2, 3, 4]))"
   ]
  },
  {
   "cell_type": "code",
   "execution_count": 8,
   "id": "ba1ba002",
   "metadata": {},
   "outputs": [
    {
     "data": {
      "text/plain": [
       "[1, 4, 9, 16]"
      ]
     },
     "execution_count": 8,
     "metadata": {},
     "output_type": "execute_result"
    }
   ],
   "source": [
    "list(map(제곱, [1, 2, 3, 4]))"
   ]
  },
  {
   "cell_type": "code",
   "execution_count": 9,
   "id": "db07039b",
   "metadata": {},
   "outputs": [
    {
     "data": {
      "text/plain": [
       "9"
      ]
     },
     "execution_count": 9,
     "metadata": {},
     "output_type": "execute_result"
    }
   ],
   "source": [
    "(lambda x : x**2)(3)"
   ]
  },
  {
   "cell_type": "code",
   "execution_count": 11,
   "id": "374e333d",
   "metadata": {},
   "outputs": [
    {
     "data": {
      "text/plain": [
       "[51,\n",
       " 52,\n",
       " 53,\n",
       " 54,\n",
       " 55,\n",
       " 56,\n",
       " 57,\n",
       " 58,\n",
       " 59,\n",
       " 60,\n",
       " 61,\n",
       " 62,\n",
       " 63,\n",
       " 64,\n",
       " 65,\n",
       " 66,\n",
       " 67,\n",
       " 68,\n",
       " 69,\n",
       " 70,\n",
       " 71,\n",
       " 72,\n",
       " 73,\n",
       " 74,\n",
       " 75,\n",
       " 76,\n",
       " 77,\n",
       " 78,\n",
       " 79,\n",
       " 80,\n",
       " 81,\n",
       " 82,\n",
       " 83,\n",
       " 84,\n",
       " 85,\n",
       " 86,\n",
       " 87,\n",
       " 88,\n",
       " 89,\n",
       " 90,\n",
       " 91,\n",
       " 92,\n",
       " 93,\n",
       " 94,\n",
       " 95,\n",
       " 96,\n",
       " 97,\n",
       " 98,\n",
       " 99]"
      ]
     },
     "execution_count": 11,
     "metadata": {},
     "output_type": "execute_result"
    }
   ],
   "source": [
    "list(filter(lambda x : x>50, range(100)))"
   ]
  },
  {
   "cell_type": "code",
   "execution_count": 12,
   "id": "5a7d9f47",
   "metadata": {},
   "outputs": [],
   "source": [
    "# filter\n",
    "# zip\n",
    "# map\n",
    "# lambda"
   ]
  },
  {
   "cell_type": "code",
   "execution_count": 17,
   "id": "80b3317e",
   "metadata": {},
   "outputs": [
    {
     "data": {
      "text/plain": [
       "[(1, 2), (2, 2), (3, 2), (4, 3), (5, 3)]"
      ]
     },
     "execution_count": 17,
     "metadata": {},
     "output_type": "execute_result"
    }
   ],
   "source": [
    "숫자 = [1, 2, 3, 4, 5]\n",
    "승수 = [2, 2, 2, 3, 3]\n",
    "# 1. 숫자의 승수를 zip으로 맵핑해서 진행하세요.\n",
    "# 2. 승수한 값이 100 이상인 값을 출력하세요.\n",
    "# 3. 승수한 값을 모두 더하세요.\n",
    "\n",
    "list(zip(숫자, 승수))"
   ]
  },
  {
   "cell_type": "code",
   "execution_count": 25,
   "id": "1a6d670c",
   "metadata": {},
   "outputs": [
    {
     "name": "stdout",
     "output_type": "stream",
     "text": [
      "[1, 4, 9, 64, 125]\n",
      "(1, 2)\n",
      "(2, 2)\n",
      "(3, 2)\n",
      "(4, 3)\n",
      "(5, 3)\n",
      "1 2\n",
      "2 2\n",
      "3 2\n",
      "4 3\n",
      "5 3\n",
      "[64, 125]\n",
      "203\n"
     ]
    }
   ],
   "source": [
    "숫자 = [1, 2, 3, 4, 5]\n",
    "승수 = [2, 2, 2, 3, 3]\n",
    "# 1. 숫자의 승수를 zip으로 맵핑해서 진행하세요.\n",
    "# 2. 승수한 값이 100 이상인 값을 출력하세요.\n",
    "# 3. 승수한 값을 모두 더하세요.\n",
    "\n",
    "# 1번\n",
    "# list(map(lambda x, y: x ** y, zip(숫자, 승수)))\n",
    "print(list(map(lambda x: x[0] ** x[1], zip(숫자, 승수))))\n",
    "\n",
    "for i in zip(숫자, 승수):\n",
    "    print(i)\n",
    "    \n",
    "for i, j in zip(숫자, 승수):\n",
    "    print(i, j)\n",
    "    \n",
    "# 2번\n",
    "filter\n",
    "print(list(filter(lambda x: x > 50, list(map(lambda x: x[0] ** x[1], zip(숫자, 승수))))))\n",
    "\n",
    "# 3번\n",
    "print(sum(map(lambda x: x[0] ** x[1], zip(숫자, 승수))))\n",
    "\n",
    "\n"
   ]
  },
  {
   "cell_type": "markdown",
   "id": "72197bda",
   "metadata": {},
   "source": [
    "## 파일 입출력"
   ]
  },
  {
   "cell_type": "code",
   "execution_count": 26,
   "id": "e49c1b4c",
   "metadata": {},
   "outputs": [
    {
     "name": "stdout",
     "output_type": "stream",
     "text": [
      " C 드라이브의 볼륨: OS\n",
      " 볼륨 일련 번호: D6CA-2978\n",
      "\n",
      " C:\\Users\\peter\\Documents\\Google 드라이브\\코딩 베이스캠프 실습\\Python 디렉터리\n",
      "\n",
      "2022-01-03  오전 11:45    <DIR>          .\n",
      "2022-01-03  오전 11:45    <DIR>          ..\n",
      "2022-01-03  오전 11:45    <DIR>          .ipynb_checkpoints\n",
      "2022-01-03  오전 11:24             4,251 args, kwargs.ipynb\n",
      "2022-01-03  오전 11:18             7,865 built-in functions.ipynb\n",
      "2021-12-31  오후 05:48             6,111 JUNGOL.ipynb\n",
      "2022-01-03  오전 09:15           451,432 Jupyter notebook.ipynb\n",
      "2022-01-03  오전 11:45             8,156 lambda와 응용식 & 파일 입출력.ipynb\n",
      "2022-01-03  오전 10:32                92 leehojun.py\n",
      "2021-12-30  오후 01:02           330,233 temp.jpg\n",
      "2022-01-03  오전 10:50    <DIR>          __pycache__\n",
      "2022-01-01  오후 05:06             8,655 다차원 리스트와 built-in function, range, list comprehension.ipynb\n",
      "2022-01-02  오전 08:45            11,436 딕셔너리.ipynb\n",
      "2022-01-01  오후 04:40             1,743 리스트.ipynb\n",
      "2022-01-03  오전 10:56            20,919 모듈과 패키지.ipynb\n",
      "2021-12-31  오전 11:48             6,068 문자 자료형 - 연산과 format.ipynb\n",
      "2021-12-31  오전 11:25            13,150 문자 자료형.ipynb\n",
      "2022-01-02  오후 09:47             6,491 반복문 - for, while, continue, pass, break, else.ipynb\n",
      "2022-01-02  오후 09:19            12,548 셋.ipynb\n",
      "2021-12-31  오전 09:29             5,895 숫자 자료형.ipynb\n",
      "2021-12-31  오후 01:47             5,686 연산 - 비트연산, 할당연산, 식별연산, in 구문.ipynb\n",
      "2021-12-30  오후 05:04             3,711 입력과 출력.ipynb\n",
      "2021-12-30  오후 03:41             3,989 주석과 변수.ipynb\n",
      "2022-01-03  오전 10:25            11,213 클래스.ipynb\n",
      "2022-01-01  오후 05:16             1,028 튜플.ipynb\n",
      "2022-01-01  오후 04:36             6,203 함수.ipynb\n",
      "2021-12-31  오후 12:37             2,078 형변환.ipynb\n",
      "              23개 파일             928,953 바이트\n",
      "               4개 디렉터리  848,681,713,664 바이트 남음\n"
     ]
    }
   ],
   "source": [
    "!dir\n",
    "# !mkdir lee # 파일(lee) 생성\n",
    "# !remdir lee # 파일(lee) 삭제"
   ]
  },
  {
   "cell_type": "code",
   "execution_count": 45,
   "id": "596d031b",
   "metadata": {},
   "outputs": [],
   "source": [
    "# 파일입출력 모드\n",
    "# r - 읽기\n",
    "# w - 쓰기\n",
    "# a - 추가"
   ]
  },
  {
   "cell_type": "code",
   "execution_count": 29,
   "id": "34925a22",
   "metadata": {},
   "outputs": [],
   "source": [
    "f = open('test.txt', 'w') #test 파일 호출 쓰기모드(덮어쓰기)\n",
    "f.write('hello hojun')\n",
    "f.close()"
   ]
  },
  {
   "cell_type": "code",
   "execution_count": 30,
   "id": "c175e78a",
   "metadata": {},
   "outputs": [],
   "source": [
    "f = open('test.txt', 'w') #test 파일 호출 쓰기모드(덮어쓰기)\n",
    "f.write('''hello hojun!\n",
    "hello hojun!\n",
    "hello hojun!\n",
    "hello hojun!\n",
    "hello hojun!\n",
    "hello hojun!''')\n",
    "f.close()"
   ]
  },
  {
   "cell_type": "code",
   "execution_count": 31,
   "id": "33e77636",
   "metadata": {},
   "outputs": [],
   "source": [
    "f = open('test.txt', 'w') #test 파일 호출 쓰기모드(덮어쓰기)\n",
    "s = ''\n",
    "for i in range(10):\n",
    "    s += 'hello hojun!\\n'\n",
    "f.write(s)\n",
    "f.close()"
   ]
  },
  {
   "cell_type": "code",
   "execution_count": 32,
   "id": "c09f6cca",
   "metadata": {},
   "outputs": [
    {
     "name": "stdout",
     "output_type": "stream",
     "text": [
      "hello hojun!\n",
      "hello hojun!\n",
      "hello hojun!\n",
      "hello hojun!\n",
      "hello hojun!\n",
      "hello hojun!\n",
      "hello hojun!\n",
      "hello hojun!\n",
      "hello hojun!\n",
      "hello hojun!\n",
      "\n"
     ]
    }
   ],
   "source": [
    "f = open('test.txt', 'r') #test 파일 호출 읽기모드\n",
    "s = f.read()\n",
    "print(s)\n",
    "f.close()"
   ]
  },
  {
   "cell_type": "code",
   "execution_count": 33,
   "id": "429eb659",
   "metadata": {},
   "outputs": [
    {
     "name": "stdout",
     "output_type": "stream",
     "text": [
      "hello hojun!\n",
      "\n",
      "hello hojun!\n",
      "\n",
      "hello hojun!\n",
      "\n",
      "hello hojun!\n",
      "\n",
      "hello hojun!\n",
      "\n"
     ]
    }
   ],
   "source": [
    "f = open('test.txt', 'r') #test 파일 호출 읽기모드\n",
    "while f.readline():\n",
    "    print(f.readline())\n",
    "f.close()"
   ]
  },
  {
   "cell_type": "code",
   "execution_count": 34,
   "id": "ef7aee11",
   "metadata": {},
   "outputs": [
    {
     "name": "stdout",
     "output_type": "stream",
     "text": [
      "hello hojun!\n",
      "\n",
      "hello hojun!\n",
      "\n",
      "hello hojun!\n",
      "\n",
      "hello hojun!\n",
      "\n",
      "hello hojun!\n",
      "\n",
      "hello hojun!\n",
      "\n",
      "hello hojun!\n",
      "\n",
      "hello hojun!\n",
      "\n",
      "hello hojun!\n",
      "\n",
      "hello hojun!\n",
      "\n",
      "\n"
     ]
    }
   ],
   "source": [
    "f = open('test.txt', 'r') #test 파일 호출 읽기모드\n",
    "line = ' '\n",
    "while line:\n",
    "    line = f.readline()\n",
    "    print(line)\n",
    "f.close()"
   ]
  },
  {
   "cell_type": "code",
   "execution_count": 36,
   "id": "3b8cf6b6",
   "metadata": {},
   "outputs": [],
   "source": [
    "f = open('test.txt', 'a') #test 파일 호출 어펜드모드(추가모드:기존 내용에서 더함)\n",
    "f.write('test!!')\n",
    "f.close()"
   ]
  },
  {
   "cell_type": "code",
   "execution_count": 37,
   "id": "eefd440b",
   "metadata": {},
   "outputs": [],
   "source": [
    "with open('test.txt', 'a') as f:\n",
    "    f.write('test!!!!')"
   ]
  },
  {
   "cell_type": "code",
   "execution_count": 40,
   "id": "16afd43b",
   "metadata": {},
   "outputs": [],
   "source": [
    "l = [10, 20, 30]\n",
    "\n",
    "with open('test.txt', 'w') as f:\n",
    "    f.write(str(l))"
   ]
  },
  {
   "cell_type": "code",
   "execution_count": 41,
   "id": "a5b46128",
   "metadata": {},
   "outputs": [],
   "source": [
    "l = [10, 20, 30]\n",
    "\n",
    "with open('test.js', 'w') as f:\n",
    "    f.write('var test = ' + str(l))"
   ]
  },
  {
   "cell_type": "code",
   "execution_count": 44,
   "id": "511d5bc1",
   "metadata": {},
   "outputs": [],
   "source": [
    "l = ['10 ', '20 ', '30 ']\n",
    "\n",
    "with open('test2.txt', 'w') as f:\n",
    "    f.writelines(l)\n"
   ]
  },
  {
   "cell_type": "code",
   "execution_count": 46,
   "id": "2ee6ddd1",
   "metadata": {},
   "outputs": [],
   "source": [
    "l = ['10 ', '20 ', '30 ']\n",
    "# ','.join(l)\n",
    "\n",
    "with open('test3.csv', 'w') as f:\n",
    "    f.write(','.join(l))"
   ]
  },
  {
   "cell_type": "code",
   "execution_count": null,
   "id": "ffda0311",
   "metadata": {},
   "outputs": [],
   "source": []
  }
 ],
 "metadata": {
  "kernelspec": {
   "display_name": "Python 3 (ipykernel)",
   "language": "python",
   "name": "python3"
  },
  "language_info": {
   "codemirror_mode": {
    "name": "ipython",
    "version": 3
   },
   "file_extension": ".py",
   "mimetype": "text/x-python",
   "name": "python",
   "nbconvert_exporter": "python",
   "pygments_lexer": "ipython3",
   "version": "3.9.7"
  }
 },
 "nbformat": 4,
 "nbformat_minor": 5
}
