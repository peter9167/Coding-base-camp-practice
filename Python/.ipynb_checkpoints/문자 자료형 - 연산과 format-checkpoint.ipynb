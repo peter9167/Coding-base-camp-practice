{
 "cells": [
  {
   "cell_type": "markdown",
   "id": "b305a97b",
   "metadata": {},
   "source": [
    "## 문자열의 사칙연산"
   ]
  },
  {
   "cell_type": "code",
   "execution_count": null,
   "id": "9576f28d",
   "metadata": {},
   "outputs": [],
   "source": [
    "s = 'leehojun'\n",
    "s + s\n",
    "s * 3\n",
    "# s / s Error\n",
    "# s // s Error\n",
    "# s - s Error"
   ]
  },
  {
   "cell_type": "markdown",
   "id": "2b999a27",
   "metadata": {},
   "source": [
    "## format"
   ]
  },
  {
   "cell_type": "code",
   "execution_count": 2,
   "id": "5f23741c",
   "metadata": {},
   "outputs": [
    {
     "name": "stdout",
     "output_type": "stream",
     "text": [
      "이름은 leehojun 입니다. 나이는 10 입니다.\n",
      "이름은 leehojun 입니다. 나이는 10 입니다.\n"
     ]
    }
   ],
   "source": [
    "name = 'leehojun'\n",
    "age = 10\n",
    "\n",
    "s = '이름은 %s 입니다. 나이는 %d 입니다.'\n",
    "\n",
    "print('이름은 %s 입니다. 나이는 %d 입니다.' % (name, age))\n",
    "print(s % (name, age))"
   ]
  },
  {
   "cell_type": "code",
   "execution_count": 5,
   "id": "562d8ba4",
   "metadata": {},
   "outputs": [
    {
     "name": "stdout",
     "output_type": "stream",
     "text": [
      "1. 이름은 leehojun 입니다. 나이는 10 입니다.\n",
      "2. 이름은 10 입니다. 나이는 10 입니다.\n",
      "3. 이름은 jun 입니다. 나이는 10 입니다.\n",
      "4. 이름은 !! 입니다. 나이는 11 입니다.\n"
     ]
    }
   ],
   "source": [
    "print('1. 이름은 {} 입니다. 나이는 {} 입니다.'. format(name, age))\n",
    "print('2. 이름은 {1} 입니다. 나이는 {1} 입니다.'. format(name, age))\n",
    "print('3. 이름은 {} 입니다. 나이는 {} 입니다.'. format('jun', age))\n",
    "print('4. 이름은 {name_} 입니다. 나이는 {age_} 입니다.'. format(name_ = '!!', age_ = 11))"
   ]
  },
  {
   "cell_type": "code",
   "execution_count": 8,
   "id": "b6e5a78f",
   "metadata": {},
   "outputs": [
    {
     "name": "stdout",
     "output_type": "stream",
     "text": [
      "2 X 3 = 6\n",
      "   2 X    3 =    6\n",
      "23456789 X    3 =    6\n",
      "2    X 3    = 6   \n",
      " 2   X  3   =  6  \n",
      "   2 X    3 =    6\n",
      "0002 X 0003 = 0006\n",
      "~2~~ X !!!3 = #6##\n"
     ]
    }
   ],
   "source": [
    "print('{} X {} = {}'.format(2, 3, 6))\n",
    "print('{0:4} X {1:4} = {2:4}'.format(2, 3, 6))\n",
    "print('{0:4} X {1:4} = {2:4}'.format(23456789, 3, 6))\n",
    "print('{0:<4} X {1:<4} = {2:<4}'.format(2, 3, 6))\n",
    "print('{0:^4} X {1:^4} = {2:^4}'.format(2, 3, 6))\n",
    "print('{0:>4} X {1:>4} = {2:>4}'.format(2, 3, 6))\n",
    "print('{0:0>4} X {1:0>4} = {2:0>4}'.format(2, 3, 6))\n",
    "print('{0:~^4} X {1:!>4} = {2:#^4}'.format(2, 3, 6))"
   ]
  },
  {
   "cell_type": "code",
   "execution_count": 12,
   "id": "aa677052",
   "metadata": {},
   "outputs": [
    {
     "name": "stdout",
     "output_type": "stream",
     "text": [
      "1. 제 이름은 leehojun 입니다.\n",
      "2. 제 이름은 leehojun 입니다.\n",
      "3. 제 이름은 leehojun        입니다.\n",
      "4. 제 이름은    leehojun     입니다.\n",
      "5. 제 이름은        leehojun 입니다.\n",
      "6. 제 이름은 leehojun 입니다.\n",
      "7. 제 이름은 leehojun 입니다.\n",
      "8. 제 이름은 0000000leehojun 입니다.\n",
      "9. 제 이름은 #######leehojun 입니다.\n"
     ]
    }
   ],
   "source": [
    "name = 'leehojun'\n",
    "print(f'1. 제 이름은 {name} 입니다.')\n",
    "print(f'2. 제 이름은 {name:4} 입니다.')\n",
    "print(f'3. 제 이름은 {name:<15} 입니다.')\n",
    "print(f'4. 제 이름은 {name:^15} 입니다.')\n",
    "print(f'5. 제 이름은 {name:>15} 입니다.')\n",
    "print(f'6. 제 이름은 {name:!>} 입니다.')\n",
    "print(f'7. 제 이름은 {name:~>} 입니다.')\n",
    "print(f'8. 제 이름은 {name:0>15} 입니다.')\n",
    "print(f'9. 제 이름은 {name:#>15} 입니다.')"
   ]
  },
  {
   "cell_type": "code",
   "execution_count": 14,
   "id": "5322ed9a",
   "metadata": {},
   "outputs": [
    {
     "name": "stdout",
     "output_type": "stream",
     "text": [
      "2.100\n",
      "2.1000\n",
      "2.10000\n"
     ]
    }
   ],
   "source": [
    "print('{0:.3f}'.format(2.1)) # 소숫점 3자리에 맞춰 출력\n",
    "print('{0:.4f}'.format(2.1)) # 소숫점 4자리에 맞춰 출력\n",
    "print('{0:.5f}'.format(2.1)) # 소숫점 5자리에 맞춰 출력"
   ]
  },
  {
   "cell_type": "code",
   "execution_count": 15,
   "id": "a145a6bc",
   "metadata": {},
   "outputs": [
    {
     "name": "stdout",
     "output_type": "stream",
     "text": [
      "1,234,567.12346\n"
     ]
    }
   ],
   "source": [
    "format(999999999999999, ',')\n",
    "print('{0:,.5f}'.format(1234567.123456789))"
   ]
  },
  {
   "cell_type": "code",
   "execution_count": 17,
   "id": "9385b6e1",
   "metadata": {},
   "outputs": [
    {
     "name": "stdout",
     "output_type": "stream",
     "text": [
      "0000000099\n",
      "000000099\n",
      "000000099\n",
      "0099.00000\n"
     ]
    }
   ],
   "source": [
    "print('{0:010d}'.format(99)) #10자리수로 맞춤\n",
    "print('{0:09}'.format(99))\n",
    "# print('{0:!9}'.format(99))\n",
    "print('{0:0>9}'.format(99))\n",
    "print('{0:010.5f}'.format(99))"
   ]
  },
  {
   "cell_type": "code",
   "execution_count": null,
   "id": "3f97d485",
   "metadata": {},
   "outputs": [],
   "source": []
  }
 ],
 "metadata": {
  "kernelspec": {
   "display_name": "Python 3 (ipykernel)",
   "language": "python",
   "name": "python3"
  },
  "language_info": {
   "codemirror_mode": {
    "name": "ipython",
    "version": 3
   },
   "file_extension": ".py",
   "mimetype": "text/x-python",
   "name": "python",
   "nbconvert_exporter": "python",
   "pygments_lexer": "ipython3",
   "version": "3.9.7"
  }
 },
 "nbformat": 4,
 "nbformat_minor": 5
}
