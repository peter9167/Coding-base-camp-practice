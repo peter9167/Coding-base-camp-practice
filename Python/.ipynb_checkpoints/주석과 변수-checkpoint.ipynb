{
 "cells": [
  {
   "cell_type": "markdown",
   "id": "da95e244",
   "metadata": {},
   "source": [
    "## 주석\n",
    "\n",
    "* 코드 단위 주석을 달 때에는 샾을 사용합니다.\n",
    "* 블록단위 줏석은 작은 따옴표, 또는 큰 따옴표 3개를 앞뒤로 답니다."
   ]
  },
  {
   "cell_type": "code",
   "execution_count": null,
   "id": "1f9cc9c6",
   "metadata": {},
   "outputs": [],
   "source": [
    "# hello world\n",
    "\n",
    "'''\n",
    "hello world\n",
    "hello world\n",
    "'''\n",
    "\n",
    "\"\"\"\n",
    "hello world\n",
    "hello world\n",
    "\"\"\""
   ]
  },
  {
   "cell_type": "markdown",
   "id": "d44f26bd",
   "metadata": {},
   "source": [
    "## 변수"
   ]
  },
  {
   "cell_type": "code",
   "execution_count": 2,
   "id": "7e13920b",
   "metadata": {},
   "outputs": [
    {
     "data": {
      "text/plain": [
       "10"
      ]
     },
     "execution_count": 2,
     "metadata": {},
     "output_type": "execute_result"
    }
   ],
   "source": [
    "a = 10      #int, 정수형\n",
    "b = 10.1    #float, 실수\n",
    "c = -1\n",
    "d = True    #bool, 부울형(참거짓형)\n",
    "e = '10'    #str, 문자열\n",
    "f = 'lee'\n",
    "g = 'hojun' \n",
    "h = 10 + 2j #complex, 복소수\n",
    "i = 0b110   #int, 2진법\n",
    "j = 0o11    #int, 8진법\n",
    "k = 0xA1    #int, 16진법\n",
    "\n",
    "a, type(a), dir"
   ]
  }
 ],
 "metadata": {
  "kernelspec": {
   "display_name": "Python 3 (ipykernel)",
   "language": "python",
   "name": "python3"
  },
  "language_info": {
   "codemirror_mode": {
    "name": "ipython",
    "version": 3
   },
   "file_extension": ".py",
   "mimetype": "text/x-python",
   "name": "python",
   "nbconvert_exporter": "python",
   "pygments_lexer": "ipython3",
   "version": "3.9.7"
  }
 },
 "nbformat": 4,
 "nbformat_minor": 5
}
