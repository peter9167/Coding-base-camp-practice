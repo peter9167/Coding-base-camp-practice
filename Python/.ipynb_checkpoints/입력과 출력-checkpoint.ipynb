{
 "cells": [
  {
   "cell_type": "markdown",
   "id": "1279d9ad",
   "metadata": {},
   "source": [
    "## 입력과 출력"
   ]
  },
  {
   "cell_type": "code",
   "execution_count": 1,
   "id": "b74bdd01",
   "metadata": {},
   "outputs": [
    {
     "name": "stdout",
     "output_type": "stream",
     "text": [
      "12\n"
     ]
    },
    {
     "data": {
      "text/plain": [
       "'1212'"
      ]
     },
     "execution_count": 1,
     "metadata": {},
     "output_type": "execute_result"
    }
   ],
   "source": [
    "x = input()\n",
    "x + x"
   ]
  },
  {
   "cell_type": "markdown",
   "id": "f041598e",
   "metadata": {},
   "source": [
    "## 자주 쓰이는 builtt-in fuctions 정리\n",
    "\n",
    "- int()\n",
    "- float()\n",
    "- boll()\n",
    "- str()\n",
    "- tuple()\n",
    "- list()\n",
    "- dict()\n",
    "- set()"
   ]
  },
  {
   "cell_type": "code",
   "execution_count": 4,
   "id": "c0098b3c",
   "metadata": {},
   "outputs": [
    {
     "name": "stdout",
     "output_type": "stream",
     "text": [
      "10 10.1 -1\n",
      "10!!10.1!!-1\n",
      "10!!59!!59\n",
      "10 10.1 -1!!10!!10.1!!-1!!"
     ]
    }
   ],
   "source": [
    "a = 10\n",
    "b = 10.1\n",
    "c = -1\n",
    "print(a, b, c)\n",
    "print(a, b, c, sep='!!')\n",
    "print(10, 59, 59, sep='!!')\n",
    "print(a, b, c, end='!!')\n",
    "print(a, b, c, end='!!', sep='!!')"
   ]
  },
  {
   "cell_type": "code",
   "execution_count": null,
   "id": "6e32d055",
   "metadata": {},
   "outputs": [],
   "source": [
    "hello = 'hi'\n",
    "print(f'{hello} world')\n",
    "print(f'{a} X {b} = {a*b}')"
   ]
  }
 ],
 "metadata": {
  "kernelspec": {
   "display_name": "Python 3 (ipykernel)",
   "language": "python",
   "name": "python3"
  },
  "language_info": {
   "codemirror_mode": {
    "name": "ipython",
    "version": 3
   },
   "file_extension": ".py",
   "mimetype": "text/x-python",
   "name": "python",
   "nbconvert_exporter": "python",
   "pygments_lexer": "ipython3",
   "version": "3.9.7"
  }
 },
 "nbformat": 4,
 "nbformat_minor": 5
}
