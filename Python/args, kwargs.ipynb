{
 "cells": [
  {
   "cell_type": "markdown",
   "id": "dfa7e819",
   "metadata": {},
   "source": [
    "## args, kwargs\n",
    "\n",
    "* https://velog.io/@suasue/Python-%EA%B0%80%EB%B3%80%EC%9D%B8%EC%9E%90args%EC%99%80-%ED%82%A4%EC%9B%8C%EB%93%9C-%EA%B0%80%EB%B3%80%EC%9D%B8%EC%9E%90kwargs"
   ]
  },
  {
   "cell_type": "code",
   "execution_count": null,
   "id": "cfa1ca42",
   "metadata": {},
   "outputs": [],
   "source": []
  },
  {
   "cell_type": "code",
   "execution_count": 1,
   "id": "5446047a",
   "metadata": {},
   "outputs": [
    {
     "name": "stdout",
     "output_type": "stream",
     "text": [
      "(10, True, 'leehojun')\n",
      "<class 'tuple'>\n",
      "10\n",
      "True\n",
      "leehojun\n"
     ]
    }
   ],
   "source": [
    "def print_args(*args): # tuple 값으로 받는다\n",
    "    print(args)\n",
    "    print(type(args))\n",
    "    for i in args:\n",
    "        print(i)\n",
    "        \n",
    "print_args(10, True, 'leehojun')"
   ]
  },
  {
   "cell_type": "code",
   "execution_count": 6,
   "id": "a8607e1e",
   "metadata": {},
   "outputs": [
    {
     "name": "stdout",
     "output_type": "stream",
     "text": [
      "10\n",
      "(True, 'leehojun', 100, 100)\n",
      "<class 'tuple'>\n",
      "True\n",
      "leehojun\n",
      "100\n",
      "100\n"
     ]
    }
   ],
   "source": [
    "# 고정인수와 가변인수\n",
    "\n",
    "def print_args(a, *args):\n",
    "    print(a)\n",
    "    print(args)\n",
    "    print(type(args))\n",
    "    for i in args:\n",
    "        print(i)\n",
    "        \n",
    "print_args(10, True, 'leehojun', 100, 100)"
   ]
  },
  {
   "cell_type": "code",
   "execution_count": 5,
   "id": "a3bc9fd6",
   "metadata": {},
   "outputs": [
    {
     "name": "stdout",
     "output_type": "stream",
     "text": [
      "{'name': 'leehojun', 'age': '10'}\n",
      "<class 'dict'>\n",
      "name\n",
      "age\n"
     ]
    }
   ],
   "source": [
    "def print_kwargs(**kwargs):\n",
    "    print(kwargs)\n",
    "    print(type(kwargs))\n",
    "    for i in kwargs:\n",
    "        print(i)\n",
    "        \n",
    "print_kwargs(name='leehojun', age=\"10\")"
   ]
  },
  {
   "cell_type": "code",
   "execution_count": null,
   "id": "5f797057",
   "metadata": {},
   "outputs": [],
   "source": [
    "def print_kwargs(a, **kwargs):\n",
    "    print(a)\n",
    "    print(kwargs)\n",
    "    print(type(kwargs))\n",
    "    for i in kwargs:\n",
    "        print(i)\n",
    "        \n",
    "print_kwargs(10, name='leehojun', age=\"10\")"
   ]
  },
  {
   "cell_type": "code",
   "execution_count": null,
   "id": "f2bd879e",
   "metadata": {},
   "outputs": [],
   "source": []
  },
  {
   "cell_type": "code",
   "execution_count": null,
   "id": "b3705905",
   "metadata": {},
   "outputs": [],
   "source": []
  },
  {
   "cell_type": "code",
   "execution_count": null,
   "id": "6756a89c",
   "metadata": {},
   "outputs": [],
   "source": []
  },
  {
   "cell_type": "code",
   "execution_count": null,
   "id": "7505d066",
   "metadata": {},
   "outputs": [],
   "source": []
  },
  {
   "cell_type": "code",
   "execution_count": null,
   "id": "8821f5f0",
   "metadata": {},
   "outputs": [],
   "source": []
  },
  {
   "cell_type": "code",
   "execution_count": null,
   "id": "137ef8d3",
   "metadata": {},
   "outputs": [],
   "source": []
  },
  {
   "cell_type": "code",
   "execution_count": null,
   "id": "5c035961",
   "metadata": {},
   "outputs": [],
   "source": []
  },
  {
   "cell_type": "code",
   "execution_count": null,
   "id": "0854f383",
   "metadata": {},
   "outputs": [],
   "source": []
  },
  {
   "cell_type": "code",
   "execution_count": null,
   "id": "5589ff47",
   "metadata": {},
   "outputs": [],
   "source": []
  }
 ],
 "metadata": {
  "kernelspec": {
   "display_name": "Python 3 (ipykernel)",
   "language": "python",
   "name": "python3"
  },
  "language_info": {
   "codemirror_mode": {
    "name": "ipython",
    "version": 3
   },
   "file_extension": ".py",
   "mimetype": "text/x-python",
   "name": "python",
   "nbconvert_exporter": "python",
   "pygments_lexer": "ipython3",
   "version": "3.9.7"
  }
 },
 "nbformat": 4,
 "nbformat_minor": 5
}
