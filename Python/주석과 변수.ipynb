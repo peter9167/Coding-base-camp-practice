{
 "cells": [
  {
   "cell_type": "markdown",
   "id": "5eeaca36",
   "metadata": {},
   "source": [
    "## 주석\n",
    "\n",
    "* 코드 단위 주석을 달 때에는 샾을 사용합니다.\n",
    "* 블록단위 줏석은 작은 따옴표, 또는 큰 따옴표 3개를 앞뒤로 답니다."
   ]
  },
  {
   "cell_type": "code",
   "execution_count": null,
   "id": "aecaeac6",
   "metadata": {},
   "outputs": [],
   "source": [
    "# hello world\n",
    "\n",
    "'''\n",
    "hello world\n",
    "hello world\n",
    "'''\n",
    "\n",
    "\"\"\"\n",
    "hello world\n",
    "hello world\n",
    "\"\"\""
   ]
  },
  {
   "cell_type": "markdown",
   "id": "d2dd4b92",
   "metadata": {},
   "source": [
    "## 변수"
   ]
  },
  {
   "cell_type": "code",
   "execution_count": 16,
   "id": "6484a5eb",
   "metadata": {},
   "outputs": [
    {
     "data": {
      "text/plain": [
       "(6,\n",
       " int,\n",
       " ['__abs__',\n",
       "  '__add__',\n",
       "  '__and__',\n",
       "  '__bool__',\n",
       "  '__ceil__',\n",
       "  '__class__',\n",
       "  '__delattr__',\n",
       "  '__dir__',\n",
       "  '__divmod__',\n",
       "  '__doc__',\n",
       "  '__eq__',\n",
       "  '__float__',\n",
       "  '__floor__',\n",
       "  '__floordiv__',\n",
       "  '__format__',\n",
       "  '__ge__',\n",
       "  '__getattribute__',\n",
       "  '__getnewargs__',\n",
       "  '__gt__',\n",
       "  '__hash__',\n",
       "  '__index__',\n",
       "  '__init__',\n",
       "  '__init_subclass__',\n",
       "  '__int__',\n",
       "  '__invert__',\n",
       "  '__le__',\n",
       "  '__lshift__',\n",
       "  '__lt__',\n",
       "  '__mod__',\n",
       "  '__mul__',\n",
       "  '__ne__',\n",
       "  '__neg__',\n",
       "  '__new__',\n",
       "  '__or__',\n",
       "  '__pos__',\n",
       "  '__pow__',\n",
       "  '__radd__',\n",
       "  '__rand__',\n",
       "  '__rdivmod__',\n",
       "  '__reduce__',\n",
       "  '__reduce_ex__',\n",
       "  '__repr__',\n",
       "  '__rfloordiv__',\n",
       "  '__rlshift__',\n",
       "  '__rmod__',\n",
       "  '__rmul__',\n",
       "  '__ror__',\n",
       "  '__round__',\n",
       "  '__rpow__',\n",
       "  '__rrshift__',\n",
       "  '__rshift__',\n",
       "  '__rsub__',\n",
       "  '__rtruediv__',\n",
       "  '__rxor__',\n",
       "  '__setattr__',\n",
       "  '__sizeof__',\n",
       "  '__str__',\n",
       "  '__sub__',\n",
       "  '__subclasshook__',\n",
       "  '__truediv__',\n",
       "  '__trunc__',\n",
       "  '__xor__',\n",
       "  'as_integer_ratio',\n",
       "  'bit_length',\n",
       "  'conjugate',\n",
       "  'denominator',\n",
       "  'from_bytes',\n",
       "  'imag',\n",
       "  'numerator',\n",
       "  'real',\n",
       "  'to_bytes'])"
      ]
     },
     "execution_count": 16,
     "metadata": {},
     "output_type": "execute_result"
    }
   ],
   "source": [
    "a = 10      #int, 정수형\n",
    "b = 10.1    #float, 실수\n",
    "c = -1\n",
    "d = True    #bool, 부울형(참거짓형)\n",
    "e = '10'    #str, 문자열\n",
    "f = 'lee'\n",
    "g = 'hojun' \n",
    "h = 10 + 2j #complex, 복소수\n",
    "i = 0b110   #int, 2진법\n",
    "j = 0o11    #int, 8진법\n",
    "k = 0xA1    #int, 16진법\n",
    "\n",
    "####\n",
    "\n",
    "l = [10, 20, 30] #list\n",
    "m = (10, 20, 30) #tuple\n",
    "n = {10, 10, 20} #set\n",
    "o = {'key' : 'value'} #dict\n",
    "\n",
    "i, type(i), dir(i)"
   ]
  }
 ],
 "metadata": {
  "kernelspec": {
   "display_name": "Python 3 (ipykernel)",
   "language": "python",
   "name": "python3"
  },
  "language_info": {
   "codemirror_mode": {
    "name": "ipython",
    "version": 3
   },
   "file_extension": ".py",
   "mimetype": "text/x-python",
   "name": "python",
   "nbconvert_exporter": "python",
   "pygments_lexer": "ipython3",
   "version": "3.9.7"
  }
 },
 "nbformat": 4,
 "nbformat_minor": 5
}
