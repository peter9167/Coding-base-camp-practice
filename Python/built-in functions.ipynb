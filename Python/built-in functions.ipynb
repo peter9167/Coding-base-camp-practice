{
 "cells": [
  {
   "cell_type": "markdown",
   "id": "eaf2de34",
   "metadata": {},
   "source": [
    "## built-in functions"
   ]
  },
  {
   "cell_type": "markdown",
   "id": "dbc033b7",
   "metadata": {},
   "source": [
    "* built-in functions\n",
    "* abs()\n",
    "* aiter()\n",
    "* all()\n",
    "* any()\n",
    "* anext()\n",
    "* ascii()\n",
    "\n",
    "* bin()\n",
    "* bool()\n",
    "* breakpoint()\n",
    "* bytearray()\n",
    "* bytes()\n",
    "\n",
    "* callable()\n",
    "* chr()\n",
    "* classmethod()\n",
    "* compile()\n",
    "* complex()\n",
    "\n",
    "* delattr()\n",
    "* dict()\n",
    "* dir()\n",
    "* divmod()\n",
    "\n",
    "* enumerate()\n",
    "* eval()\n",
    "* exec()\n",
    "\n",
    "* filter()\n",
    "* float()\n",
    "* format()\n",
    "* frozenset()\n",
    "\n",
    "* getattr()\n",
    "* globals()\n",
    "\n",
    "* hasattr()\n",
    "* hash()\n",
    "* help()\n",
    "* hex()\n",
    "\n",
    "* id()\n",
    "* input()\n",
    "* int()\n",
    "* isinstance()\n",
    "* issubclass()\n",
    "* iter()\n",
    "\n",
    "* len()\n",
    "* list()\n",
    "* locals()\n",
    "\n",
    "* map()\n",
    "* max()\n",
    "* memoryview()\n",
    "* min()\n",
    "\n",
    "* next()\n",
    "\n",
    "* object()\n",
    "* oct()\n",
    "* open()\n",
    "* ord()\n",
    "\n",
    "* pow()\n",
    "* print()\n",
    "* property()\n",
    "\n",
    "* range()\n",
    "* repr()\n",
    "* reversed()\n",
    "* round()\n",
    "\n",
    "* set()\n",
    "* setattr()\n",
    "* slice()\n",
    "* sorted()\n",
    "* staticmethod()\n",
    "* str()\n",
    "* sum()\n",
    "* super()\n",
    "\n",
    "* tuple()\n",
    "* type()\n",
    "\n",
    "* vars()\n",
    "\n",
    "* zip()\n",
    "\n",
    "* __import__()\n"
   ]
  },
  {
   "cell_type": "code",
   "execution_count": 1,
   "id": "46766294",
   "metadata": {},
   "outputs": [
    {
     "data": {
      "text/plain": [
       "False"
      ]
     },
     "execution_count": 1,
     "metadata": {},
     "output_type": "execute_result"
    }
   ],
   "source": [
    "all([True, False])"
   ]
  },
  {
   "cell_type": "code",
   "execution_count": 4,
   "id": "b2389c18",
   "metadata": {},
   "outputs": [
    {
     "data": {
      "text/plain": [
       "True"
      ]
     },
     "execution_count": 4,
     "metadata": {},
     "output_type": "execute_result"
    }
   ],
   "source": [
    "all([True, True, True, True])"
   ]
  },
  {
   "cell_type": "code",
   "execution_count": 5,
   "id": "efb20e31",
   "metadata": {},
   "outputs": [
    {
     "data": {
      "text/plain": [
       "True"
      ]
     },
     "execution_count": 5,
     "metadata": {},
     "output_type": "execute_result"
    }
   ],
   "source": [
    "any([True, True, True, False])"
   ]
  },
  {
   "cell_type": "code",
   "execution_count": 6,
   "id": "e6dc848d",
   "metadata": {},
   "outputs": [
    {
     "data": {
      "text/plain": [
       "16"
      ]
     },
     "execution_count": 6,
     "metadata": {},
     "output_type": "execute_result"
    }
   ],
   "source": [
    "pow(2, 4)"
   ]
  },
  {
   "cell_type": "code",
   "execution_count": 7,
   "id": "4b9d1ba7",
   "metadata": {},
   "outputs": [
    {
     "name": "stdout",
     "output_type": "stream",
     "text": [
      "4\n",
      "1\n",
      "20\n",
      "8\n",
      "[1, 1, 2, 2, 3, 3, 4, 4]\n",
      "<list_reverseiterator object at 0x000001F9205EF7C0>\n"
     ]
    }
   ],
   "source": [
    "x = [1, 2, 3, 4, 1, 2, 3, 4]\n",
    "print(max(x))\n",
    "print(min(x))\n",
    "print(sum(x))\n",
    "print(len(x))\n",
    "print(sorted(x))\n",
    "print(reversed(x))"
   ]
  },
  {
   "cell_type": "code",
   "execution_count": 8,
   "id": "6977d2c4",
   "metadata": {},
   "outputs": [
    {
     "name": "stdout",
     "output_type": "stream",
     "text": [
      "0x64\n",
      "0o144\n",
      "0b1100100\n",
      "0b1100100\n",
      "97\n",
      "a\n"
     ]
    }
   ],
   "source": [
    "print(hex(100))\n",
    "print(oct(100))\n",
    "print(bin(100))\n",
    "print(bin(100))\n",
    "print(ord('a'))\n",
    "print(chr(97))"
   ]
  },
  {
   "cell_type": "code",
   "execution_count": 10,
   "id": "ae7c6a16",
   "metadata": {},
   "outputs": [
    {
     "name": "stdout",
     "output_type": "stream",
     "text": [
      "Help on function hojun in module __main__:\n",
      "\n",
      "hojun()\n",
      "    이호준이 작성한 함수\n",
      "\n"
     ]
    }
   ],
   "source": [
    "def hojun():\n",
    "    '''\n",
    "    이호준이 작성한 함수\n",
    "    '''\n",
    "    pass\n",
    "\n",
    "help(hojun)"
   ]
  },
  {
   "cell_type": "code",
   "execution_count": 20,
   "id": "a959c61f",
   "metadata": {},
   "outputs": [
    {
     "name": "stdout",
     "output_type": "stream",
     "text": [
      "[('a', '1', '!'), ('b', '2', '@'), ('c', '3', '#')]\n",
      "[2, 4, 6]\n"
     ]
    },
    {
     "data": {
      "text/plain": [
       "[6, 7, 8, 9]"
      ]
     },
     "execution_count": 20,
     "metadata": {},
     "output_type": "execute_result"
    }
   ],
   "source": [
    "# x = [10, 20, 30]\n",
    "\n",
    "# for i in range(10, 101, 10):\n",
    "#    print(i)\n",
    "    \n",
    "# for i, j in enumerate(x, 1):\n",
    "#     print(i, j)\n",
    "\n",
    "def 곱하기둘(x):\n",
    "    return x * 2\n",
    "\n",
    "sample = [1, 2, 3]\n",
    "\n",
    "print(list(zip('abc', '123', '!@#')))\n",
    "print(list(map(곱하기둘, sample)))\n",
    "\n",
    "def 함수(x):\n",
    "    return x > 5\n",
    "\n",
    "list(filter(함수, range(10))) \n",
    "#filter를 사용할 때는 거의 함수를 사용하기 보다는 람다식이 들어간다니깐 참고"
   ]
  },
  {
   "cell_type": "code",
   "execution_count": null,
   "id": "cb3755a9",
   "metadata": {},
   "outputs": [],
   "source": []
  },
  {
   "cell_type": "code",
   "execution_count": null,
   "id": "e285c41f",
   "metadata": {},
   "outputs": [],
   "source": []
  },
  {
   "cell_type": "code",
   "execution_count": null,
   "id": "6fbea577",
   "metadata": {},
   "outputs": [],
   "source": []
  },
  {
   "cell_type": "code",
   "execution_count": null,
   "id": "eee5e2d5",
   "metadata": {},
   "outputs": [],
   "source": []
  },
  {
   "cell_type": "code",
   "execution_count": null,
   "id": "d603e15d",
   "metadata": {},
   "outputs": [],
   "source": []
  },
  {
   "cell_type": "code",
   "execution_count": null,
   "id": "528a964f",
   "metadata": {},
   "outputs": [],
   "source": []
  },
  {
   "cell_type": "code",
   "execution_count": null,
   "id": "683d14bd",
   "metadata": {},
   "outputs": [],
   "source": []
  },
  {
   "cell_type": "code",
   "execution_count": null,
   "id": "893968ae",
   "metadata": {},
   "outputs": [],
   "source": []
  },
  {
   "cell_type": "code",
   "execution_count": null,
   "id": "4cebc159",
   "metadata": {},
   "outputs": [],
   "source": []
  },
  {
   "cell_type": "code",
   "execution_count": null,
   "id": "24c543de",
   "metadata": {},
   "outputs": [],
   "source": []
  },
  {
   "cell_type": "code",
   "execution_count": null,
   "id": "3560bd5c",
   "metadata": {},
   "outputs": [],
   "source": []
  },
  {
   "cell_type": "code",
   "execution_count": null,
   "id": "16f86f75",
   "metadata": {},
   "outputs": [],
   "source": []
  }
 ],
 "metadata": {
  "kernelspec": {
   "display_name": "Python 3 (ipykernel)",
   "language": "python",
   "name": "python3"
  },
  "language_info": {
   "codemirror_mode": {
    "name": "ipython",
    "version": 3
   },
   "file_extension": ".py",
   "mimetype": "text/x-python",
   "name": "python",
   "nbconvert_exporter": "python",
   "pygments_lexer": "ipython3",
   "version": "3.9.7"
  }
 },
 "nbformat": 4,
 "nbformat_minor": 5
}
