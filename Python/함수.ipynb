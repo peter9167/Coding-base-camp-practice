{
 "cells": [
  {
   "cell_type": "markdown",
   "id": "2c10e3a6",
   "metadata": {},
   "source": [
    "## 함수\n",
    "\n",
    "* 코드를 재사용 할 수 있으며, 줄일 수 있다.\n",
    "* 코드의 구조를 한 눈에 파악하기 쉽다."
   ]
  },
  {
   "cell_type": "code",
   "execution_count": 1,
   "id": "b36a6390",
   "metadata": {},
   "outputs": [
    {
     "name": "stdout",
     "output_type": "stream",
     "text": [
      "314.0\n"
     ]
    }
   ],
   "source": [
    "'''\n",
    "def : 함수를 선언하는 키워드\n",
    "원의넓이 : 함수의 이름\n",
    "return : 함수의 종료, 결과를 반환\n",
    "반지름 : 파라미터\n",
    "10 : 아규먼트\n",
    "원의넓이(10) : 함수의 호출\n",
    "'''\n",
    "\n",
    "def 원의넓이(반지름): #함수의 정의\n",
    "    result = (반지름 ** 2) * 3.14\n",
    "    return result\n",
    "\n",
    "print(원의넓이(10)) #함수의 호출"
   ]
  },
  {
   "cell_type": "code",
   "execution_count": null,
   "id": "a7d9ae3c",
   "metadata": {},
   "outputs": [],
   "source": [
    "def 원의넓이(반지름):\n",
    "    '''\n",
    "    원의 넓이를 구하는 함수입니다.\n",
    "    원의 반지름을 받으면, 원의넓이를 반환합니다.\n",
    "    '''\n",
    "    result = (반지름 ** 2) * 3.14\n",
    "    return result\n",
    "\n",
    "print(원의넓이(10)) #함수의 호출"
   ]
  },
  {
   "cell_type": "code",
   "execution_count": 6,
   "id": "7f2d63cf",
   "metadata": {},
   "outputs": [
    {
     "name": "stdout",
     "output_type": "stream",
     "text": [
      "None\n"
     ]
    }
   ],
   "source": [
    "print(원의넓이.__doc__)"
   ]
  },
  {
   "cell_type": "code",
   "execution_count": 7,
   "id": "dacd63f3",
   "metadata": {},
   "outputs": [
    {
     "name": "stdout",
     "output_type": "stream",
     "text": [
      "Help on NoneType object:\n",
      "\n",
      "class NoneType(object)\n",
      " |  Methods defined here:\n",
      " |  \n",
      " |  __bool__(self, /)\n",
      " |      self != 0\n",
      " |  \n",
      " |  __repr__(self, /)\n",
      " |      Return repr(self).\n",
      " |  \n",
      " |  ----------------------------------------------------------------------\n",
      " |  Static methods defined here:\n",
      " |  \n",
      " |  __new__(*args, **kwargs) from builtins.type\n",
      " |      Create and return a new object.  See help(type) for accurate signature.\n",
      "\n"
     ]
    }
   ],
   "source": [
    "help(원의넓이.__doc__)"
   ]
  },
  {
   "cell_type": "markdown",
   "id": "868f9fa7",
   "metadata": {},
   "source": [
    "## 재귀함수(recursion)\n",
    "\n",
    "* 내가 나를 호출하는 함수"
   ]
  },
  {
   "cell_type": "code",
   "execution_count": 9,
   "id": "29ed62bc",
   "metadata": {},
   "outputs": [],
   "source": [
    "#  sys.setrecursionlimit -> 제한을 늘릴 수 있음\n",
    "\n",
    "def 숫자출력(count):\n",
    "    print(count)\n",
    "    숫자출력(count+1)"
   ]
  },
  {
   "cell_type": "code",
   "execution_count": 1,
   "id": "f2d71332",
   "metadata": {},
   "outputs": [
    {
     "ename": "NameError",
     "evalue": "name '숫자출력' is not defined",
     "output_type": "error",
     "traceback": [
      "\u001b[1;31m---------------------------------------------------------------------------\u001b[0m",
      "\u001b[1;31mNameError\u001b[0m                                 Traceback (most recent call last)",
      "\u001b[1;32m~\\AppData\\Local\\Temp/ipykernel_10200/1052867169.py\u001b[0m in \u001b[0;36m<module>\u001b[1;34m\u001b[0m\n\u001b[1;32m----> 1\u001b[1;33m \u001b[0m숫자출력\u001b[0m\u001b[1;33m(\u001b[0m\u001b[1;36m1\u001b[0m\u001b[1;33m)\u001b[0m\u001b[1;33m\u001b[0m\u001b[1;33m\u001b[0m\u001b[0m\n\u001b[0m",
      "\u001b[1;31mNameError\u001b[0m: name '숫자출력' is not defined"
     ]
    }
   ],
   "source": [
    "숫자출력(1)"
   ]
  },
  {
   "cell_type": "code",
   "execution_count": 3,
   "id": "28a29faf",
   "metadata": {},
   "outputs": [
    {
     "data": {
      "text/plain": [
       "120"
      ]
     },
     "execution_count": 3,
     "metadata": {},
     "output_type": "execute_result"
    }
   ],
   "source": [
    "def factorial(n):\n",
    "    if n == 1:\n",
    "        return 1\n",
    "    else:\n",
    "        return n * factorial(n-1)\n",
    "    \n",
    "factorial(5)"
   ]
  },
  {
   "cell_type": "code",
   "execution_count": null,
   "id": "5715d279",
   "metadata": {},
   "outputs": [],
   "source": [
    "# factorial(5) = 5 * factorial(4)\n",
    "# factorial(4) = 4 * factorial(3)\n",
    "# factorial(3) = 3 * factorial(2)\n",
    "# factorial(2) = 2 * factorial(1)\n",
    "# factorial(1) = 1"
   ]
  },
  {
   "cell_type": "code",
   "execution_count": null,
   "id": "98671d4e",
   "metadata": {},
   "outputs": [],
   "source": []
  },
  {
   "cell_type": "code",
   "execution_count": null,
   "id": "19d21336",
   "metadata": {},
   "outputs": [],
   "source": []
  },
  {
   "cell_type": "code",
   "execution_count": null,
   "id": "7a4ee43b",
   "metadata": {},
   "outputs": [],
   "source": []
  },
  {
   "cell_type": "code",
   "execution_count": null,
   "id": "90cb8635",
   "metadata": {},
   "outputs": [],
   "source": []
  },
  {
   "cell_type": "code",
   "execution_count": null,
   "id": "7e804933",
   "metadata": {},
   "outputs": [],
   "source": []
  },
  {
   "cell_type": "code",
   "execution_count": null,
   "id": "e718cd36",
   "metadata": {},
   "outputs": [],
   "source": []
  },
  {
   "cell_type": "code",
   "execution_count": null,
   "id": "b7e3c511",
   "metadata": {},
   "outputs": [],
   "source": []
  }
 ],
 "metadata": {
  "kernelspec": {
   "display_name": "Python 3 (ipykernel)",
   "language": "python",
   "name": "python3"
  },
  "language_info": {
   "codemirror_mode": {
    "name": "ipython",
    "version": 3
   },
   "file_extension": ".py",
   "mimetype": "text/x-python",
   "name": "python",
   "nbconvert_exporter": "python",
   "pygments_lexer": "ipython3",
   "version": "3.9.7"
  }
 },
 "nbformat": 4,
 "nbformat_minor": 5
}
