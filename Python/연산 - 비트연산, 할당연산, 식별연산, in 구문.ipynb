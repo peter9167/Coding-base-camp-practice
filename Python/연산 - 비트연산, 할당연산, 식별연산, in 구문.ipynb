{
 "cells": [
  {
   "cell_type": "markdown",
   "id": "42ca7435",
   "metadata": {},
   "source": [
    "## 연산 - 비트연산, 할당연산, 식별연산, in 구문"
   ]
  },
  {
   "cell_type": "code",
   "execution_count": 2,
   "id": "87ca2a8d",
   "metadata": {},
   "outputs": [
    {
     "data": {
      "text/plain": [
       "-41"
      ]
     },
     "execution_count": 2,
     "metadata": {},
     "output_type": "execute_result"
    }
   ],
   "source": [
    "a = 40\n",
    "~a #bit NOT(2의 보수)\n",
    "\n",
    "# 101000\n",
    "# 101111 #비트단위를 뒤짚었음!\n",
    "# 011000 #비트단위를 뒤짚고 +1한 값\n",
    "\n",
    "# 101000\n",
    "# 011000\n",
    "# 000000\n",
    "\n",
    "# 1. 0을 2개로 표현하지 않아도 됨!\n",
    "# 2. 더했을 경우 올림수 하나만 버리면 됨!"
   ]
  },
  {
   "cell_type": "code",
   "execution_count": 3,
   "id": "a9d0b901",
   "metadata": {},
   "outputs": [
    {
     "name": "stdout",
     "output_type": "stream",
     "text": [
      "0b101000\n",
      "160\n",
      "160\n",
      "0b101000\n",
      "10\n",
      "10\n"
     ]
    }
   ],
   "source": [
    "a = 40\n",
    "print(bin(a))\n",
    "print(int('10100000', 2))\n",
    "print(a << 2)\n",
    "\n",
    "print(bin(a))\n",
    "print(int('1010', 2))\n",
    "print(a>> 2)"
   ]
  },
  {
   "cell_type": "code",
   "execution_count": 6,
   "id": "102eb5c9",
   "metadata": {},
   "outputs": [
    {
     "data": {
      "text/plain": [
       "10"
      ]
     },
     "execution_count": 6,
     "metadata": {},
     "output_type": "execute_result"
    }
   ],
   "source": [
    "# '연산자' + '='\n",
    "a = 40\n",
    "\n",
    "# a += 10\n",
    "# a -= 5\n",
    "# a *= 5\n",
    "# a **= 5\n",
    "# a /= 5\n",
    "# a //= 5\n",
    "# a %= 5\n",
    "# a |= 5\n",
    "# a &= 5\n",
    "a >>= 2\n",
    "a\n",
    "# a <<= 5\n",
    "# a ~= 5"
   ]
  },
  {
   "cell_type": "markdown",
   "id": "146acbdf",
   "metadata": {},
   "source": [
    "### 연산자 우선순위\n",
    "\n",
    "1. 리스트, 튜플, 딕셔너리, 셋\n",
    "2. 인덱싱, 슬라이싱\n",
    "3. **\n",
    "4. *, @, /, //, %\n",
    "5. +, -\n",
    "6. 비트단위 연산\n",
    "7. in, not in, is, is not\n",
    "8. 논리연산(not, and, or)\n",
    "9. if, else\n",
    "10. lambda"
   ]
  },
  {
   "cell_type": "markdown",
   "id": "cfc72197",
   "metadata": {},
   "source": [
    "### 식별연산"
   ]
  },
  {
   "cell_type": "code",
   "execution_count": 7,
   "id": "3da55062",
   "metadata": {},
   "outputs": [
    {
     "data": {
      "text/plain": [
       "True"
      ]
     },
     "execution_count": 7,
     "metadata": {},
     "output_type": "execute_result"
    }
   ],
   "source": [
    "'leehojun' == 'leehojun'"
   ]
  },
  {
   "cell_type": "code",
   "execution_count": 12,
   "id": "58f6622d",
   "metadata": {},
   "outputs": [
    {
     "name": "stderr",
     "output_type": "stream",
     "text": [
      "<>:1: SyntaxWarning: \"is\" with a literal. Did you mean \"==\"?\n",
      "<>:1: SyntaxWarning: \"is\" with a literal. Did you mean \"==\"?\n",
      "C:\\Users\\peter\\AppData\\Local\\Temp/ipykernel_4932/1863880368.py:1: SyntaxWarning: \"is\" with a literal. Did you mean \"==\"?\n",
      "  'leehojun' is 'leehojun'\n"
     ]
    },
    {
     "data": {
      "text/plain": [
       "True"
      ]
     },
     "execution_count": 12,
     "metadata": {},
     "output_type": "execute_result"
    }
   ],
   "source": [
    "'leehojun' is 'leehojun'"
   ]
  },
  {
   "cell_type": "code",
   "execution_count": 18,
   "id": "12f0190b",
   "metadata": {},
   "outputs": [
    {
     "data": {
      "text/plain": [
       "False"
      ]
     },
     "execution_count": 18,
     "metadata": {},
     "output_type": "execute_result"
    }
   ],
   "source": [
    "a = [1, 2, 3, 4]\n",
    "b = [1, 2, 3, 4]\n",
    "c = b\n",
    "\n",
    "a == b\n",
    "a is c"
   ]
  },
  {
   "cell_type": "markdown",
   "id": "bd952696",
   "metadata": {},
   "source": [
    "### in 구문"
   ]
  },
  {
   "cell_type": "code",
   "execution_count": 21,
   "id": "c7e1cdcd",
   "metadata": {},
   "outputs": [
    {
     "data": {
      "text/plain": [
       "(True, False, False)"
      ]
     },
     "execution_count": 21,
     "metadata": {},
     "output_type": "execute_result"
    }
   ],
   "source": [
    "a = [1, 2, 3, 4]\n",
    "b = [1, 2, 3, 4]\n",
    "\n",
    "a == b, a is b, a in b\n",
    "2 in b\n",
    "2 in b, [2] in b, [1, 2] in b"
   ]
  },
  {
   "cell_type": "code",
   "execution_count": 22,
   "id": "fec21402",
   "metadata": {},
   "outputs": [
    {
     "data": {
      "text/plain": [
       "True"
      ]
     },
     "execution_count": 22,
     "metadata": {},
     "output_type": "execute_result"
    }
   ],
   "source": [
    "'l' in 'leehojun'"
   ]
  },
  {
   "cell_type": "code",
   "execution_count": 23,
   "id": "b03e0846",
   "metadata": {},
   "outputs": [
    {
     "data": {
      "text/plain": [
       "True"
      ]
     },
     "execution_count": 23,
     "metadata": {},
     "output_type": "execute_result"
    }
   ],
   "source": [
    "'lee' in 'leehojun'"
   ]
  }
 ],
 "metadata": {
  "kernelspec": {
   "display_name": "Python 3 (ipykernel)",
   "language": "python",
   "name": "python3"
  },
  "language_info": {
   "codemirror_mode": {
    "name": "ipython",
    "version": 3
   },
   "file_extension": ".py",
   "mimetype": "text/x-python",
   "name": "python",
   "nbconvert_exporter": "python",
   "pygments_lexer": "ipython3",
   "version": "3.9.7"
  }
 },
 "nbformat": 4,
 "nbformat_minor": 5
}
