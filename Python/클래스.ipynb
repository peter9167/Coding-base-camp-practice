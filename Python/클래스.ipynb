{
 "cells": [
  {
   "cell_type": "markdown",
   "id": "ee7fa16c",
   "metadata": {},
   "source": [
    "## 클래스"
   ]
  },
  {
   "cell_type": "code",
   "execution_count": 3,
   "id": "4eed9362",
   "metadata": {},
   "outputs": [
    {
     "name": "stdout",
     "output_type": "stream",
     "text": [
      "100 의 스피드로 달리고 있습니다.\n",
      "200 의 스피드로 달리고 있습니다.\n",
      "<__main__.Car object at 0x0000027314B60460>\n",
      "<class '__main__.Car'>\n",
      "['__class__', '__delattr__', '__dict__', '__dir__', '__doc__', '__eq__', '__format__', '__ge__', '__getattribute__', '__gt__', '__hash__', '__init__', '__init_subclass__', '__le__', '__lt__', '__module__', '__ne__', '__new__', '__reduce__', '__reduce_ex__', '__repr__', '__setattr__', '__sizeof__', '__str__', '__subclasshook__', '__weakref__', 'maxpeople', 'maxspeed', 'move', 'stop']\n"
     ]
    }
   ],
   "source": [
    "class Car(object):\n",
    "    maxspeed = 300\n",
    "    maxpeople = 5\n",
    "    def move(self, x):\n",
    "        print(x, '의 스피드로 달리고 있습니다.')\n",
    "    def stop(self):\n",
    "        print('멈췄습니다.')\n",
    "        \n",
    "k5 = Car()\n",
    "k3 = Car()\n",
    "\n",
    "k5.move(100)\n",
    "k3.move(200)\n",
    "\n",
    "#클래스를 사용하는 이유는 인스턴스를 생성하기 위해서 사용\n",
    "\n",
    "Car.maxspeed # 실행은 되지만 클래스를 사용할 필요없는 작업\n",
    "\n",
    "print(k5)\n",
    "print(type(k5))\n",
    "print(dir(k5))"
   ]
  },
  {
   "cell_type": "code",
   "execution_count": null,
   "id": "113e511a",
   "metadata": {},
   "outputs": [],
   "source": [
    "# 클래스 : 공장, 붕어빵 찍는 틀\n",
    "# 인스턴스 : 공장에서 생산되는 생산품, 붕어빵\n",
    "\n",
    "# 매직 메소드(참고) : https://zzsza.github.io/development/2020/07/05/python-magic-method/"
   ]
  },
  {
   "cell_type": "code",
   "execution_count": null,
   "id": "46af1dd4",
   "metadata": {},
   "outputs": [],
   "source": [
    "#Django, Python Framework에서 게시물을 생성할 때 사용\n",
    "class Notice:\n",
    "    pass\n",
    "\n",
    "# 크롤링 할 때 각각 클롤링된 데이터를 인스턴스로 생성 -> 엑셀로 변환\n",
    "class Book:\n",
    "    pass"
   ]
  },
  {
   "cell_type": "code",
   "execution_count": 5,
   "id": "a0ca8c1c",
   "metadata": {},
   "outputs": [
    {
     "name": "stdout",
     "output_type": "stream",
     "text": [
      "data 객체에 접근하셨습니다.\n"
     ]
    }
   ],
   "source": [
    "'''\n",
    "점(.)의 비밀\n",
    "파이썬에서 객체에 점(.)을 찍으면 해당 객체에 접근할 수 있다고 배웠습니다. \n",
    "이것은 왜 그럴까요? 이것도 역시 매직 메소드 덕분입니다. \n",
    "변수가 어떤 객체를 바인딩하고 있을 때 점(.)을 찍으면 \n",
    "클래스의 __getattribute__ 라는 이름의 매직 메소드를 호출해줍니다. \n",
    "이게 전부입니다. 물론 클래스를 만드는 사람 입장에서는 __getattribute__에 \n",
    "적당한 동작을 구현해주는 것이 필요합니다.\n",
    "\n",
    "일단 여기에서 우리는 점의 비밀에만 집중하겠습니다. \n",
    "Stock 이라는 클래스를 정의하고 __getattribute__라는 매직 메소드를 추가합니다. \n",
    "객체를 생성한 후 점을 찍고 아무 이름이나 접근해 봅시다. \n",
    "s.data라고 코딩하면 매직 메소드인 __getattribute__가 자동으로 호출되고 \n",
    "data라는 이름 item이라는 파라미터로 전달됨을 확인할 수 있습니다.\n",
    "'''\n",
    "\n",
    "class Stock:\n",
    "    def __getattribute__(self, item):\n",
    "        print(item, \"객체에 접근하셨습니다.\")\n",
    "\n",
    "\n",
    "s = Stock()\n",
    "s.data"
   ]
  },
  {
   "cell_type": "markdown",
   "id": "12bf14d4",
   "metadata": {},
   "source": [
    "## 클래스의 상속"
   ]
  },
  {
   "cell_type": "code",
   "execution_count": 7,
   "id": "ce039fee",
   "metadata": {},
   "outputs": [
    {
     "name": "stdout",
     "output_type": "stream",
     "text": [
      "['__class__', '__delattr__', '__dict__', '__dir__', '__doc__', '__eq__', '__format__', '__ge__', '__getattribute__', '__gt__', '__hash__', '__init__', '__init_subclass__', '__le__', '__lt__', '__module__', '__ne__', '__new__', '__reduce__', '__reduce_ex__', '__repr__', '__setattr__', '__sizeof__', '__str__', '__subclasshook__', '__weakref__', 'battery', 'batteryKm', 'maxpeople', 'maxspeed', 'move', 'stop']\n"
     ]
    }
   ],
   "source": [
    "class Car(object): # 물려주는 클래스(부모, Parent Class, Super class)\n",
    "    maxspeed = 300\n",
    "    maxpeople = 5\n",
    "    def move(self, x):\n",
    "        print('스피드로 달리고 있습니다.')\n",
    "    def stop(self):\n",
    "        print('멈췄습니다.')\n",
    "        \n",
    "# 아래와 같이 상속할 수 있다.\n",
    "class HybridCar(Car): # 물려받는 클래스(Child class, sub class)\n",
    "    battery = 1000\n",
    "    batteryKm = 300\n",
    "        \n",
    "k5 = HybridCar()\n",
    "k5.maxspeed\n",
    "\n",
    "print(dir(k5))"
   ]
  },
  {
   "cell_type": "code",
   "execution_count": 13,
   "id": "3c483b0a",
   "metadata": {},
   "outputs": [
    {
     "name": "stdout",
     "output_type": "stream",
     "text": [
      "600 만큼 달릴 수 있습니다.\n",
      "10 스피드로 달리고 있습니다.\n"
     ]
    }
   ],
   "source": [
    "class Car(object): # 물려주는 클래스(부모, Parent Class, Super class)\n",
    "    maxspeed = 300\n",
    "    maxpeople = 5\n",
    "    def move(self, x):\n",
    "        print('스피드로 달리고 있습니다.')\n",
    "    def stop(self):\n",
    "        print('멈췄습니다.')\n",
    "        \n",
    "# 아래와 같이 상속할 수 있다.\n",
    "class HybridCar(Car): # 물려받는 클래스(Child class, sub class)\n",
    "    battery = 1000\n",
    "    batteryKm = 300\n",
    "    \n",
    "class ElectricCar(HybridCar):\n",
    "    battery = 2000\n",
    "    batteryKm = 600\n",
    "    def move(self, x):\n",
    "        print(self.batteryKm, '만큼 달릴 수 있습니다.')\n",
    "        print(x, '스피드로 달리고 있습니다.')\n",
    "  \n",
    "# Erorr : https://tibetsandfox.tistory.com/26\n",
    "# class HybridElectricCar(HybridCar, ElectricCar):\n",
    "#     pass\n",
    "\n",
    "# 상속받은 클래스와 같은 이름에 객체가 있다면 덮어쓴다.\n",
    "# 여기서 덮어쓴다는 의미는 메소드 오버라이딩 (Method overriding)이라고 한다.\n",
    "# 참고 : https://wikidocs.net/16073\n",
    "    \n",
    "k5 = HybridCar()\n",
    "electricCarK5 = ElectricCar()\n",
    "k5.maxspeed\n",
    "electricCarK5.maxspeed\n",
    "electricCarK5.battery\n",
    "electricCarK5.move(10)\n",
    "\n",
    "# print(dir(k5))"
   ]
  },
  {
   "cell_type": "code",
   "execution_count": 15,
   "id": "a773abe4",
   "metadata": {},
   "outputs": [
    {
     "data": {
      "text/plain": [
       "1000"
      ]
     },
     "execution_count": 15,
     "metadata": {},
     "output_type": "execute_result"
    }
   ],
   "source": [
    "class Car(object): # 물려주는 클래스(부모, Parent Class, Super class)\n",
    "    maxspeed = 300\n",
    "    maxpeople = 5\n",
    "    def move(self, x):\n",
    "        print('스피드로 달리고 있습니다.')\n",
    "    def stop(self):\n",
    "        print('멈췄습니다.')\n",
    "        \n",
    "# 아래와 같이 상속할 수 있다.\n",
    "class HybridCar(Car): # 물려받는 클래스(Child class, sub class)\n",
    "    battery = 1000\n",
    "    batteryKm = 300\n",
    "    \n",
    "class ElectricCar(Car):\n",
    "    battery = 2000\n",
    "    batteryKm = 600\n",
    "    def move(self, x):\n",
    "        print(self.batteryKm, '만큼 달릴 수 있습니다.')\n",
    "        print(x, '스피드로 달리고 있습니다.')\n",
    "\n",
    "class HybridElectricCar(HybridCar, ElectricCar):\n",
    "    pass\n",
    "\n",
    "# 상속받은 클래스와 같은 이름에 객체가 있다면 덮어쓴다.\n",
    "# 여기서 덮어쓴다는 의미는 메소드 오버라이딩 (Method overriding)이라고 한다.\n",
    "# 참고 : https://wikidocs.net/16073\n",
    "    \n",
    "k5 = HybridElectricCar()\n",
    "k5.maxspeed\n",
    "k5.battery\n",
    "\n",
    "# print(dir(k5))"
   ]
  },
  {
   "cell_type": "code",
   "execution_count": 16,
   "id": "fc6afca4",
   "metadata": {},
   "outputs": [
    {
     "data": {
      "text/plain": [
       "[__main__.HybridElectricCar,\n",
       " __main__.HybridCar,\n",
       " __main__.ElectricCar,\n",
       " __main__.Car,\n",
       " object]"
      ]
     },
     "execution_count": 16,
     "metadata": {},
     "output_type": "execute_result"
    }
   ],
   "source": [
    "HybridElectricCar.mro() #상속받는 순서"
   ]
  },
  {
   "cell_type": "code",
   "execution_count": null,
   "id": "e095aacb",
   "metadata": {},
   "outputs": [],
   "source": []
  },
  {
   "cell_type": "code",
   "execution_count": null,
   "id": "e3b0e4ef",
   "metadata": {},
   "outputs": [],
   "source": []
  },
  {
   "cell_type": "code",
   "execution_count": null,
   "id": "f151cf66",
   "metadata": {},
   "outputs": [],
   "source": []
  },
  {
   "cell_type": "code",
   "execution_count": null,
   "id": "dec20aa0",
   "metadata": {},
   "outputs": [],
   "source": []
  },
  {
   "cell_type": "code",
   "execution_count": null,
   "id": "5531b518",
   "metadata": {},
   "outputs": [],
   "source": []
  },
  {
   "cell_type": "code",
   "execution_count": null,
   "id": "b94b24d6",
   "metadata": {},
   "outputs": [],
   "source": []
  },
  {
   "cell_type": "code",
   "execution_count": null,
   "id": "fcfed2e5",
   "metadata": {},
   "outputs": [],
   "source": []
  },
  {
   "cell_type": "code",
   "execution_count": null,
   "id": "52b15694",
   "metadata": {},
   "outputs": [],
   "source": []
  },
  {
   "cell_type": "code",
   "execution_count": null,
   "id": "1ee619ac",
   "metadata": {},
   "outputs": [],
   "source": []
  },
  {
   "cell_type": "code",
   "execution_count": null,
   "id": "8174ef90",
   "metadata": {},
   "outputs": [],
   "source": []
  },
  {
   "cell_type": "code",
   "execution_count": null,
   "id": "f146dd75",
   "metadata": {},
   "outputs": [],
   "source": []
  },
  {
   "cell_type": "code",
   "execution_count": null,
   "id": "db5c6dc6",
   "metadata": {},
   "outputs": [],
   "source": []
  }
 ],
 "metadata": {
  "kernelspec": {
   "display_name": "Python 3 (ipykernel)",
   "language": "python",
   "name": "python3"
  },
  "language_info": {
   "codemirror_mode": {
    "name": "ipython",
    "version": 3
   },
   "file_extension": ".py",
   "mimetype": "text/x-python",
   "name": "python",
   "nbconvert_exporter": "python",
   "pygments_lexer": "ipython3",
   "version": "3.9.7"
  }
 },
 "nbformat": 4,
 "nbformat_minor": 5
}
