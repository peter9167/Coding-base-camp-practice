{
 "cells": [
  {
   "cell_type": "markdown",
   "id": "aaa0268a",
   "metadata": {},
   "source": [
    "## 입력과 출력"
   ]
  },
  {
   "cell_type": "code",
   "execution_count": 1,
   "id": "1b512ca2",
   "metadata": {},
   "outputs": [
    {
     "name": "stdout",
     "output_type": "stream",
     "text": [
      "12\n"
     ]
    },
    {
     "data": {
      "text/plain": [
       "'1212'"
      ]
     },
     "execution_count": 1,
     "metadata": {},
     "output_type": "execute_result"
    }
   ],
   "source": [
    "x = input()\n",
    "x + x"
   ]
  },
  {
   "cell_type": "markdown",
   "id": "a8f76f2e",
   "metadata": {},
   "source": [
    "## 자주 쓰이는 builtt-in fuctions 정리\n",
    "\n",
    "- int()\n",
    "- float()\n",
    "- boll()\n",
    "- str()\n",
    "- tuple()\n",
    "- list()\n",
    "- dict()\n",
    "- set()"
   ]
  },
  {
   "cell_type": "code",
   "execution_count": 4,
   "id": "6fa29009",
   "metadata": {},
   "outputs": [
    {
     "name": "stdout",
     "output_type": "stream",
     "text": [
      "10 10.1 -1\n",
      "10!!10.1!!-1\n",
      "10!!59!!59\n",
      "10 10.1 -1!!10!!10.1!!-1!!"
     ]
    }
   ],
   "source": [
    "a = 10\n",
    "b = 10.1\n",
    "c = -1\n",
    "print(a, b, c)\n",
    "print(a, b, c, sep='!!')\n",
    "print(10, 59, 59, sep='!!')\n",
    "print(a, b, c, end='!!')\n",
    "print(a, b, c, end='!!', sep='!!')"
   ]
  },
  {
   "cell_type": "code",
   "execution_count": 5,
   "id": "c821f08f",
   "metadata": {},
   "outputs": [
    {
     "name": "stdout",
     "output_type": "stream",
     "text": [
      "hi world\n",
      "10 X 10.1 = 101.0\n"
     ]
    }
   ],
   "source": [
    "hello = 'hi'\n",
    "print(f'{hello} world')\n",
    "print(f'{a} X {b} = {a*b}')"
   ]
  },
  {
   "cell_type": "code",
   "execution_count": 7,
   "id": "759b7dfb",
   "metadata": {},
   "outputs": [
    {
     "name": "stdout",
     "output_type": "stream",
     "text": [
      "10 X 10.1 = 101.0\n"
     ]
    }
   ],
   "source": [
    "print('{0} X {1} = {2}'.format(a, b, a*b))"
   ]
  },
  {
   "cell_type": "code",
   "execution_count": 11,
   "id": "f1a44f76",
   "metadata": {},
   "outputs": [
    {
     "name": "stdout",
     "output_type": "stream",
     "text": [
      "안녕하세요. 제 이름은 이호준 입니다. 제 나이는 10 살입니다.\n"
     ]
    }
   ],
   "source": [
    "이름 = '이호준'\n",
    "나이 = 10\n",
    "print('안녕하세요. 제 이름은', 이름, '입니다. 제 나이는', 나이, '살입니다.')"
   ]
  },
  {
   "cell_type": "code",
   "execution_count": 13,
   "id": "3672e6f8",
   "metadata": {},
   "outputs": [
    {
     "name": "stdout",
     "output_type": "stream",
     "text": [
      "안녕하세요. 제 이름은 이호준입니다. 제 나이는 10살입니다.\n"
     ]
    }
   ],
   "source": [
    "print('안녕하세요. 제 이름은 %s입니다. 제 나이는 %d살입니다.' %(이름, 나이))"
   ]
  },
  {
   "cell_type": "markdown",
   "id": "f96cf28c",
   "metadata": {},
   "source": [
    "### 포맷 코드 종류\n",
    "\n",
    "* %c 문자\n",
    "* %s 문자열\n",
    "* %d 정수\n",
    "* %f 실수\n",
    "* %o 8진수\n",
    "* %x 16진수"
   ]
  }
 ],
 "metadata": {
  "kernelspec": {
   "display_name": "Python 3 (ipykernel)",
   "language": "python",
   "name": "python3"
  },
  "language_info": {
   "codemirror_mode": {
    "name": "ipython",
    "version": 3
   },
   "file_extension": ".py",
   "mimetype": "text/x-python",
   "name": "python",
   "nbconvert_exporter": "python",
   "pygments_lexer": "ipython3",
   "version": "3.9.7"
  }
 },
 "nbformat": 4,
 "nbformat_minor": 5
}
