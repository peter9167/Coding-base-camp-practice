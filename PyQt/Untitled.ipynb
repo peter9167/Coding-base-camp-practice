{
 "cells": [
  {
   "cell_type": "code",
   "execution_count": 2,
   "id": "1216348c",
   "metadata": {},
   "outputs": [],
   "source": [
    "import requests\n",
    "from bs4 import BeautifulSoup\n",
    "\n",
    "url = 'http://paullab.synology.me/stock.html'\n",
    "response = requests.get(url)\n",
    "response.encoding = 'utf-8'\n",
    "html = response.text\n",
    "\n",
    "soup = BeautifulSoup(html, 'html.parser')"
   ]
  },
  {
   "cell_type": "code",
   "execution_count": 6,
   "id": "117e7c3a",
   "metadata": {},
   "outputs": [
    {
     "data": {
      "text/plain": [
       "'2019.10.23'"
      ]
     },
     "execution_count": 6,
     "metadata": {},
     "output_type": "execute_result"
    }
   ],
   "source": [
    "values = soup.select('.table td')\n",
    "values[0].text"
   ]
  },
  {
   "cell_type": "code",
   "execution_count": 9,
   "id": "1a5df32c",
   "metadata": {},
   "outputs": [
    {
     "name": "stdout",
     "output_type": "stream",
     "text": [
      "2019.10.23\n",
      "6,650\n",
      "\n",
      "\r\n",
      "                            20\r\n",
      "                        \n",
      "\n",
      "6,590\n",
      "6,830\n",
      "6,580\n",
      "398,421\n",
      "2019.10.22\n",
      "6,630\n"
     ]
    }
   ],
   "source": [
    "print(values[0].text)\n",
    "print(values[1].text)\n",
    "print(values[2].text)\n",
    "print(values[3].text)\n",
    "print(values[4].text)\n",
    "print(values[5].text)\n",
    "print(values[6].text)\n",
    "print(values[7].text)\n",
    "print(values[8].text)"
   ]
  }
 ],
 "metadata": {
  "kernelspec": {
   "display_name": "Python 3 (ipykernel)",
   "language": "python",
   "name": "python3"
  },
  "language_info": {
   "codemirror_mode": {
    "name": "ipython",
    "version": 3
   },
   "file_extension": ".py",
   "mimetype": "text/x-python",
   "name": "python",
   "nbconvert_exporter": "python",
   "pygments_lexer": "ipython3",
   "version": "3.9.7"
  }
 },
 "nbformat": 4,
 "nbformat_minor": 5
}
