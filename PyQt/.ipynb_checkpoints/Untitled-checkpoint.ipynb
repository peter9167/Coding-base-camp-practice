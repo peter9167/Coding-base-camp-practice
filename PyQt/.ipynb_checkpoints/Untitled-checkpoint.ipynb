{
 "cells": [
  {
   "cell_type": "code",
   "execution_count": 2,
   "id": "1ece5d92",
   "metadata": {},
   "outputs": [],
   "source": [
    "import requests\n",
    "from bs4 import BeautifulSoup\n",
    "\n",
    "url = 'http://paullab.synology.me/stock.html'\n",
    "response = requests.get(url)\n",
    "response.encoding = 'utf-8'\n",
    "html = response.text\n",
    "\n",
    "soup = BeautifulSoup(html, 'html.parser')"
   ]
  },
  {
   "cell_type": "code",
   "execution_count": 6,
   "id": "7993a819",
   "metadata": {},
   "outputs": [
    {
     "data": {
      "text/plain": [
       "'2019.10.23'"
      ]
     },
     "execution_count": 6,
     "metadata": {},
     "output_type": "execute_result"
    }
   ],
   "source": [
    "values = soup.select('.table td')\n",
    "values[0].text"
   ]
  },
  {
   "cell_type": "code",
   "execution_count": 8,
   "id": "04237568",
   "metadata": {},
   "outputs": [
    {
     "name": "stdout",
     "output_type": "stream",
     "text": [
      "2019.10.23\n",
      "2019.10.23\n",
      "2019.10.23\n",
      "2019.10.23\n",
      "2019.10.23\n",
      "2019.10.23\n"
     ]
    }
   ],
   "source": [
    "print(values[0].text)\n",
    "print(values[1].text)\n",
    "print(values[2].text)\n",
    "print(values[3].text)\n",
    "print(values[4].text)\n",
    "print(values[5].text)\n",
    "print(values[6].text)\n",
    "print(values[7].text)\n",
    "print(values[8].text)"
   ]
  }
 ],
 "metadata": {
  "kernelspec": {
   "display_name": "Python 3 (ipykernel)",
   "language": "python",
   "name": "python3"
  },
  "language_info": {
   "codemirror_mode": {
    "name": "ipython",
    "version": 3
   },
   "file_extension": ".py",
   "mimetype": "text/x-python",
   "name": "python",
   "nbconvert_exporter": "python",
   "pygments_lexer": "ipython3",
   "version": "3.9.7"
  }
 },
 "nbformat": 4,
 "nbformat_minor": 5
}
